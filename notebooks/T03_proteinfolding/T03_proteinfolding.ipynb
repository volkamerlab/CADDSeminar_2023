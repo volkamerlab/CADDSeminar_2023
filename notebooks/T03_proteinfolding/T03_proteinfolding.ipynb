{
 "cells": [
  {
   "cell_type": "markdown",
   "metadata": {},
   "source": [
    "# Protein Folding\n",
    "\n",
    "**Note:** This talktorial is a part of TeachOpenCADD, a platform that aims to teach domain-specific skills and to provide pipeline templates as starting points for research projects.\n",
    "\n",
    "Authors:\n",
    "- Mhd Jawad Al Rahwanji, DDDD seminar 2023, Volkamer lab, Saarland University\n",
    "- Paula Linh Kramer, 2023, Volkamer lab, Saarland University"
   ]
  },
  {
   "cell_type": "markdown",
   "metadata": {},
   "source": [
    "## Aim of this talktorial\n",
    "\n",
    "In this notebook, we will learn about protein folding and how to predict protein structures using machine learning. This helps us understand diseases and accelerates drug development.\n",
    "\n",
    "Our work here will include visualizing and comparing the predicted structures to their corresponding crystalline forms."
   ]
  },
  {
   "cell_type": "markdown",
   "metadata": {},
   "source": [
    "### Contents in *Theory*\n",
    "\n",
    "* Protein Folding\n",
    "    * Proteins\n",
    "    * The Folding Problem\n",
    "* History\n",
    "    * CASP\n",
    "    * Breakthroughs\n",
    "* OmegaFold\n",
    "    * Innerworkings and Training\n",
    "    * Performance evaluation\n",
    "    * More on orphan proteins and antibodies\n",
    "    * Investigating the Geoformer\n",
    "    * Computational performance\n",
    "* Alternative Methods\n",
    "    * Quantum Approach\n",
    "    * Diffusion-based Models"
   ]
  },
  {
   "cell_type": "markdown",
   "metadata": {},
   "source": [
    "### Contents in *Practical*\n",
    "\n",
    "**Goal: Predict the 3D structure of a protein from a given sequence of amino acids**\n",
    "\n",
    "* Overview\n",
    "* Setup\n",
    "* Processing the input sequence\n",
    "* Visualizing the output prediction"
   ]
  },
  {
   "cell_type": "markdown",
   "metadata": {},
   "source": [
    "### References\n",
    "\n",
    "* [CASP](https://predictioncenter.org/)\n",
    "* AlphaFold2: [Jumper *et al.*, <i>Nature</i> (2021), <b>596</b>, 583–589](https://doi.org/10.1038/s41586-021-03819-2)\n",
    "* RoseTTAFold: [Baek *et al.*, <i>Science</i> (2021), <b>373</b>, 871-876](https://doi.org/10.1126/science.abj8754)\n",
    "* OmegaFold: [Wu *et al.*, <i>bioRxiv</i> (2022)](https://doi.org/10.1101/2022.07.21.500999)\n",
    "* [Baker lab](https://www.bakerlab.org/)\n",
    "* Quantum folding: [Robert *et al.*, <i>npj Quantum Inf.</i> (2021), <b>7</b>, 38](https://doi.org/10.1038/s41534-021-00368-4)\n",
    "* Protein generation: [Watson *et al.*, <i>bioRxiv</i> (2022)](https://doi.org/10.1101/2022.12.09.519842)\n",
    "* [OmegaFold on Github](https://github.com/HeliXonProtein/OmegaFold)"
   ]
  },
  {
   "cell_type": "markdown",
   "metadata": {},
   "source": [
    "## Theory"
   ]
  },
  {
   "cell_type": "markdown",
   "metadata": {},
   "source": [
    "### Protein Folding\n",
    "\n",
    "#### Proteins\n",
    "\n",
    "Proteins are the building blocks of life. Our DNA encodes a series of instructions for making proteins, which play a central role in almost all biological processes. From carrying oxygen to building muscles. They lend the human body its structure, get things done around the body, transport molecules and make new molecules. Proteins are linear chains of amino acids. There are 20 such amino acids. They fold in on themselves creating unique shapes or 3D structures made up of sheets and helices. These specific shapes determine protein functionality as they facilitate binding and docking.\n",
    "\n",
    "For example, Hemoglobin has a shape perfectly suited to binding a molecule of oxygen. Moreover, it changes the characteristics of the iron molecules causing them to hold and release oxygen molecules at different pressure levels.\n",
    "\n",
    "<img src=\"./images/image1.png\"  width=\"900\">\n",
    "\n",
    "**Image 1**: A 3D structure of a protein.\n",
    "\n",
    "We know of over 200 million proteins, but we only know the exact 3D shape of a fraction of them. Figuring out the sequence that makes up a protein is relatively simple as it is specified by the DNA using RNA. Figuring out a protein's functionality after knowing its shape is also fairly simple. It is extremely challenging, however, to bridge the gap. In other words, computationally predicting the shape the protein translates into based on its 1D amino acid sequence.\n",
    "\n",
    "<img src=\"./images/image2.png\"  width=\"1200\">\n",
    "\n",
    "**Image 2**: Protein creation process.\n",
    "\n",
    "#### The Folding Problem\n",
    "\n",
    "It has been a challenge for nearly 50 years. A protein can be made up of anywhere between 50 and 2000 amino acids. Each of which has a different chemical structure. These acids even interact physically with one another pushing and pulling the folding in arbitrary directions before stabilizing. Theoretically, a protein could fold into its final 3D structure in an astronomical number of ways. In 1969, [Cyrus Levinthal](https://en.wikipedia.org/wiki/Cyrus_Levinthal) estimated that to be about $10^{300}$ possible conformations for a regular protein. Yet in the wild, proteins fold in an instant effortlessly – a paradox we refer to as [Levinthal’s paradox](https://en.wikipedia.org/wiki/Levinthal%27s_paradox).\n",
    "\n",
    "<br/>\n",
    "<img src=\"./images/image3.gif\"  width=\"900\">\n",
    "\n",
    "**Image 3**: Protein folding process. Credit: DeepMind. [Source](https://techxplore.com/news/2020-01-alphafold-protein.html).\n",
    "\n",
    "One experimental way we can study protein structures is X-ray crystallography. Another is using nuclear magnetic resonance imaging. Both methods and newer methods like cryo-electron microscopy, are time-consuming and expensive to perform.\n",
    "\n",
    "The objective is to predict the 3D structure of a protein given a sequence of amino acids. The search space for this is enormous. Furthermore, we do not have a clear enough understanding of the process to be able to create a scoring function. Solving this problem has many positive implications. It would help us better understand the world around us, and design drugs to treat diseases or enzymes to break down plastic waste."
   ]
  },
  {
   "cell_type": "markdown",
   "metadata": {},
   "source": [
    "### History\n",
    "\n",
    "#### CASP\n",
    "\n",
    "Critical Assessment of Protein Structure Prediction ([CASP](https://predictioncenter.org/)) is a biennial competition to accelerate research, monitor progress, and foster the state of the art in protein structure prediction. The teams are given sequences of amino acids with known structures that haven't been revealed publicly. Their objective is to predict the structures. Then the predictions are compared to the ground truths using a metric called the global distance test (GDT). \"GDT is computed over the alpha carbon atoms and is reported as a percentage, ranging from 0 to 100. In general, the higher the GDT score, the more closely a model approximates a given reference structure\" ([Wiki](https://en.wikipedia.org/wiki/Global_distance_test)). Other measures include: root mean squared distance ([RMSD](https://en.wikipedia.org/wiki/Root-mean-square_deviation_of_atomic_positions)) and template modeling ([TM](https://en.wikipedia.org/wiki/Template_modeling_score)) score. In the early iterations of CASP, teams used to use physical and/or chemical properties at the atom or acid level. Until 2020 no team has achieved a score higher than 50% despite using deep learning techniques.\n",
    "\n",
    "#### Breakthroughs\n",
    "\n",
    "In [CASP14](https://predictioncenter.org/casp14/), [AlphaFold2](https://doi.org/10.1038/s41586-021-03819-2) achieved a median GDT score of 87% in the most challenging free-modeling category. That is, reconstructing the structure of a protein without using the structural knowledge of any significant template protein. It was trained on 100 thousand proteins from the protein data bank ([PDB](https://www.rcsb.org/)) and incorporates physical and biological knowledge about protein structure to improve prediction. The team was able to predict the exact position of thousands of atoms with high resolution.\n",
    "\n",
    "<br/>\n",
    "<img src=\"./images/image4.jpeg\"  width=\"1800\">\n",
    "\n",
    "**Image 4**: AlphaFold2 network architecture and performance. [Source](https://doi.org/10.1038/s41586-021-03819-2).\n",
    "\n",
    "Following that, [RoseTTAFold](https://www.science.org/doi/10.1126/science.abj8754) was announced performing about as well with less computational costs. It tracks amino acid positions during folding and handles protein complexes. Later on, the methods for both, AlphaFold2 and RoseTTAFold, were made publicly available [here](https://github.com/deepmind/alphafold) and [here](https://github.com/RosettaCommons/RoseTTAFold), respectively.\n",
    "\n",
    "<br/>\n",
    "<img src=\"./images/image5.jpg\"  width=\"1800\">\n",
    "\n",
    "**Image 5**: RoseTTAFold network architecture and performance. [Source](https://www.science.org/doi/10.1126/science.abj8754).\n",
    "\n",
    "Recently, another model called [OmegaFold](https://doi.org/10.1101/2022.07.21.500999) was announced and its methods were also released publicly [here](https://github.com/HeliXonProtein/OmegaFold). It achieves a similar performance to AlphaFold2 and enables the prediction of orphan proteins or antibodies with noisy multiple sequence alignments (MSA) (will be discussed later).\n",
    "\n",
    "All of these end-to-end methods rely on advancements in deep learning and databases, such as the PDB, to achieve impressive performance. Internally, they use a combination of transformers and physics-aware modules that iteratively refine their predictions of atom locations."
   ]
  },
  {
   "cell_type": "markdown",
   "metadata": {},
   "source": [
    "### OmegaFold\n",
    "\n",
    "In this takltorial, we will focus on OmegaFold, as communicated in the original work by Wu et al. titled \"[High-resolution de novo structure prediction from primary sequence](https://doi.org/10.1101/2022.07.21.500999)\". It is a novel method that accurately predicts protein structures from a single sequence. As we will see, it uses a pre-trained transformer-based protein language model (OmegaPLM) that makes predictions from sequences of amino acids and a geometry-inspired transformer (Geoformer) trained on their respective conformations. Additionally, a structural head is applied for prediction. Therefore, it works well on orphan proteins that have unique functional characteristics and antibodies that have constantly evolving MSAs.\n",
    "\n",
    "To be able to understand the novelty of OmegaFold, we will touch upon its competition. Both, AlphaFold2 and RoseTTAFold, take as input multiple sequences that are aligned to the primary one. By utilizing pairwise variations across residues, these algorithms managed to outperform previous attempts. However, their performance quickly drops in the absence of MSAs. So, the authors of OmegaFold sought to remove that requirement and took an alignment-free approach which scales 10x better (**Fig 1A**).\n",
    "\n",
    "<img src=\"./images/figure1A.png\"  width=\"1800\">\n",
    "\n",
    "**Fig. 1**: An overview. (A) Architecture. (B) Evaluations. (C) Runtime analysis. Figure credit to [the authors of OmegaFold.](https://doi.org/10.1101/2022.07.21.500999)\n",
    "\n",
    "#### Innerworkings and Training\n",
    "\n",
    "OmegaPLM was trained on unaligned protein sequences in a self-supervised manner, to learn powerful residue and residue-residue representations. Those embeddings capture the structural and functional characteristics of the protein sequences. Then, they are fed into the Geoformer, which encodes the geometrical and physical interactions between amino acids. In the end, the structural layer predicts a sequence of 3D coordinates of all the heavy atoms.\n",
    "\n",
    "Three residue-masking strategies were applied to increase OmegaPLM's robustness by training to predict missing residues from what's left of the sequence (**Fig. 2A**). The same hyperparameters used in [ESM-1b](https://github.com/facebookresearch/esm) were used while the attention module was simplified. After pretraining on sequences in UniRef50, their PLM showed improved performance with reduced memory requirements.\n",
    "\n",
    "<img src=\"./images/figure2A.png\"  width=\"1200\">\n",
    "\n",
    "**Fig. 2**: OmegaPLM and geometric smoothing. (A) OmegaPLM pretraining routine. (B) Geofromer at work. (C) Geoformer evaluation. (D) Visualization of contact maps. Figure credit to [the authors of OmegaFold](https://doi.org/10.1101/2022.07.21.500999).\n",
    "\n",
    "The purpose of the 50-layer Geofromer is to improve the embeddings such that they can predict geometrically correct coordinate predictions (**Fig 2B**). Each Geoformer layer encodes information about the residues after enforcing geometric consistency. Those latent representations should satisfy properties of [Euclidean geometry](https://en.wikipedia.org/wiki/Euclidean_geometry), and normally they do not. To this end, the nonlinear attention module was simplified and redesigned to correct the embeddings. As a result, OmegaFold encodes a geometrically correct representation of a protein sequence for it to be further encoded to a 3-dimensional space in the form of 3D coordinates (**Fig. 1A**).\n",
    "\n",
    "<img src=\"./images/figure2B.png\"  width=\"1200\">\n",
    "\n",
    "**Fig. 2**: OmegaPLM and geometric smoothing. (A) OmegaPLM pretraining routine. (B) Geofromer at work. (C) Geoformer evaluation. (D) Visualization of contact maps. Figure credit to [the authors of OmegaFold](https://doi.org/10.1101/2022.07.21.500999).\n",
    "\n",
    "Similar to AlphaFold2, OmegaFold was trained in a multitask manner, including contact, atomic distance, and torsion angle prediction. The final model was trained on about 110000 single-chain sequences from the PDB pre-2021 in addition to all the \"single domains\" from the SCOP version 1.75 database while allowing at most 40% inter-sequence identity. For validation and tuning, newer structures were used making sure to eliminate any source of data leakage.\n",
    "\n",
    "#### Performance evaluation\n",
    "\n",
    "A set of 29 CASP proteins from the free-modeling category and 146 CAMEO proteins from 2022 of varying difficulty levels were used for evaluation. The predictions were compared to SOTAs with MSAs. Remarkably, OmegaFold's alignment-free predictions were on par with the other methods (**Fig. 1B**). As for the CAMEO set, OmegaFold's structures achieved an average local-distance difference test (LDDT) score of 0.82 (LDDT is a metric for structure evaluation). On the CASP dataset, the average TM-score of 0.79 --a common measure for the topological similarity of proteins-- was slightly lower than that of other SOTAs. Single-sequence versions of the aforementioned datasets were tested. In this case, AlphaFold2 and RoseTTAFold's predictions were significantly outperformed by those of OmegaFold (**Fig. 1B**), confirming OmegaFold's edge over the rest.\n",
    "\n",
    "<img src=\"./images/figure1B.png\"  width=\"1800\">\n",
    "\n",
    "**Fig. 1**: An overview. (A) Architecture. (B) Evaluations. (C) Runtime analysis. Figure credit to [the authors of OmegaFold](https://doi.org/10.1101/2022.07.21.500999).\n",
    "\n",
    "#### More on orphan proteins and antibodies\n",
    "\n",
    "Antibodies or antibody loops have highly variable regions causing them to have a constantly evolving (noisy) nature. Thereby, methods like AlphaFold2 are unreliable having underwhelming predicted LDDT (pLDDT) scores (**Fig. 3A**). Orphan proteins are also hard to predict using MSA-based methods due to their unique functional characteristics (**Fig. 3B**).\n",
    "\n",
    "<img src=\"./images/figure3.png\"  width=\"1800\">\n",
    "\n",
    "**Fig. 3**: OmegaPLM performance analysis. (A) OmegaPLM predicting antibodies. (B) Orphan protein performance. Figure credit to [the authors of OmegaFold](https://doi.org/10.1101/2022.07.21.500999).\n",
    "\n",
    "#### Investigating the Geoformer\n",
    "\n",
    "An ablation study was conducted to determine whether Geoformer was improving the OmegaPLM's performance, the contact accuracy and geometric inconsistency were incrementally computed while adding Geoformer layers (**Fig. 2C & D**). The OmegaPLM on its own was somewhat accurate. The first 20 Geoformer layers greatly reduced the geometric violations, while the prediction resolution improved. Eventually, the improvement in accuracy plateaus the more layers were added.\n",
    "\n",
    "<img src=\"./images/figure2CD.png\"  width=\"1200\">\n",
    "\n",
    "**Fig. 2**: OmegaPLM and geometric smoothing. (A) OmegaPLM pretraining routine. (B) Geofromer at work. (C) Geoformer evaluation. (D) Visualization of contact maps. Figure credit to [the authors of OmegaFold](https://doi.org/10.1101/2022.07.21.500999).\n",
    "\n",
    "#### Computational performance\n",
    "\n",
    "To conclude, first, we will touch on efficiency. Due to OmegaFold's alignment-free nature, formidable performance can be achieved with fast runtime (**Fig. 1C**). That is due to the reduced amount of chains to process.\n",
    "\n",
    "<img src=\"./images/figure1C.png\"  width=\"900\">\n",
    "\n",
    "**Fig. 1**: An overview. (A) Architecture. (B) Evaluations. (C) Runtime analysis. Figure credit to [the authors of OmegaFold](https://doi.org/10.1101/2022.07.21.500999)."
   ]
  },
  {
   "cell_type": "markdown",
   "metadata": {},
   "source": [
    "### Alternative Methods\n",
    "\n",
    "#### Quantum Approach\n",
    "\n",
    "An alternative approach to protein folding is to use quantum computing. The objective of protein folding can be defined by finding the [psi and phi angles](https://en.wikipedia.org/wiki/Dihedral_angle#Dihedral_angles_of_biological_molecules) at pivotal atoms within a protein sequence. By representing those key points as [qubits](https://en.wikipedia.org/wiki/Qubit) in a quantum system, it is possible to use [hybrid quantum/classical algorithms](https://en.wikipedia.org/wiki/Quantum_algorithm) to find those angle values. In [Robert *et al.*](https://doi.org/10.1038/s41534-021-00368-4), a resource-efficient quantum approach was proposed to fold a polymer chain of N monomers on a lattice. This method shows promise because with time [fault-tolerant](https://en.wikipedia.org/wiki/Threshold_theorem) quantum computers will become capable of handling larger inputs. When that happens, it has been shown that these computers would out-scale classical computers leading to polynomial or exponential compute time reduction thanks to [quantum superposition](https://en.wikipedia.org/wiki/Quantum_superposition). That being said, this method is currently limited in terms of monomer length due to quantum physical constraints.\n",
    "\n",
    "<br/>\n",
    "<img src=\"./images/image6.png\"  width=\"1800\">\n",
    "\n",
    "**Image 5**: Folding algorithm and process of the quantum approach. [Source](https://www.nature.com/articles/s41534-021-00368-4/figures/2).\n",
    "\n",
    "#### Diffusion-based Models\n",
    "\n",
    "Another novel and interesting approach uses [diffusion networks](https://en.wikipedia.org/wiki/Diffusion_model) to create a generative model for protein design. This model, RoseTTAFold Diffusion ([RF diffusion](https://doi.org/10.1101/2022.12.09.519842)), was created by fine-tuning the RoseTTAFold model on protein structure denoising tasks. It enables us to design various more complicated functional proteins from simple prompts. In protein folding, the question is how amino acids interact with each other when they are in the same string/chain. Whereas, in protein binding assessment/protein design, the question is which amino acids would be most suitable to interact with this known surface. So we have to predict a surface that has a compatible topology and a favorable binding profile to the existing surface. This is the difference between designing proteins with docking/bonding in mind and plain protein folding. Concretely, the difference is the restrictions on amino acid movement that is imposed by being linked through a bond. But the principle, i.e. amino acid interaction, is the same."
   ]
  },
  {
   "cell_type": "markdown",
   "metadata": {},
   "source": [
    "## Practical"
   ]
  },
  {
   "cell_type": "markdown",
   "metadata": {},
   "source": [
    "### Overview\n",
    "\n",
    "In this talktorial, we will be using the OmegaFold model. To do so we will need to:\n",
    "- Set up OmegaFold locally, to do that we just need to follow the instructions [here](https://github.com/HeliXonProtein/OmegaFold).\n",
    "- Process a couple of input sequence to predict their conformations.\n",
    "- Analyze the predicted structures and compare them to their ground truths as well as each other.\n",
    "\n",
    "**Note**: In the `data` folder, a `FASTA` file is available for use. More information about the particular Protein it represents can be found in the accompanying `README.md`.\n",
    "\n",
    "**Note**: In the `data` folder, a `PDB` file of the protein is also available for use.\n",
    "\n",
    "**Note**: In the `output` folder,  a `PDB` file will be generated for each of the sequences in our input file.\n",
    "\n",
    "**Note**: The prediction confidence values are put in the place of `b_factors` (temperature factors) in the resulting `PDB` files."
   ]
  },
  {
   "cell_type": "code",
   "execution_count": null,
   "metadata": {
    "is_executing": true,
    "ExecuteTime": {
     "start_time": "2023-06-20T08:54:03.866734Z"
    }
   },
   "outputs": [
    {
     "name": "stdout",
     "output_type": "stream",
     "text": [
      "\u001B[32m[I 10:54:04.378 NotebookApp]\u001B[m The port 8888 is already in use, trying another port.\r\n",
      "\u001B[32m[I 10:54:04.378 NotebookApp]\u001B[m The port 8889 is already in use, trying another port.\r\n",
      "\u001B[32m[I 10:54:04.378 NotebookApp]\u001B[m Serving notebooks from local directory: /Users/introvertuoso/PycharmProjects/CADDSeminar_2023/notebooks/T03_proteinfolding\r\n",
      "\u001B[32m[I 10:54:04.378 NotebookApp]\u001B[m Jupyter Notebook 6.5.2 is running at:\r\n",
      "\u001B[32m[I 10:54:04.378 NotebookApp]\u001B[m http://localhost:8890/?token=99fde9f2e879bd72149dc63730f60a271b298c771bb76af4\r\n",
      "\u001B[32m[I 10:54:04.379 NotebookApp]\u001B[m  or http://127.0.0.1:8890/?token=99fde9f2e879bd72149dc63730f60a271b298c771bb76af4\r\n",
      "\u001B[32m[I 10:54:04.379 NotebookApp]\u001B[m Use Control-C to stop this server and shut down all kernels (twice to skip confirmation).\r\n",
      "\u001B[35m[C 10:54:04.382 NotebookApp]\u001B[m \r\n",
      "    \r\n",
      "    To access the notebook, open this file in a browser:\r\n",
      "        file:///Users/introvertuoso/Library/Jupyter/runtime/nbserver-12153-open.html\r\n",
      "    Or copy and paste one of these URLs:\r\n",
      "        http://localhost:8890/?token=99fde9f2e879bd72149dc63730f60a271b298c771bb76af4\r\n",
      "     or http://127.0.0.1:8890/?token=99fde9f2e879bd72149dc63730f60a271b298c771bb76af4\r\n",
      "\u001B[33m[W 10:54:13.782 NotebookApp]\u001B[m Notebook T03_proteinfolding.ipynb is not trusted\r\n",
      "\u001B[32m[I 10:54:13.880 NotebookApp]\u001B[m 302 GET /notebooks/images/image1.png (127.0.0.1) 0.740000ms\r\n",
      "\u001B[32m[I 10:54:13.881 NotebookApp]\u001B[m 302 GET /notebooks/images/image2.png (127.0.0.1) 0.890000ms\r\n",
      "\u001B[32m[I 10:54:13.881 NotebookApp]\u001B[m 302 GET /notebooks/images/image3.gif (127.0.0.1) 0.940000ms\r\n",
      "\u001B[32m[I 10:54:13.894 NotebookApp]\u001B[m 302 GET /notebooks/images/image4.jpeg (127.0.0.1) 0.830000ms\r\n",
      "\u001B[32m[I 10:54:13.894 NotebookApp]\u001B[m 302 GET /notebooks/images/image5.jpg (127.0.0.1) 0.870000ms\r\n",
      "\u001B[32m[I 10:54:13.916 NotebookApp]\u001B[m 302 GET /notebooks/images/figure1A.png (127.0.0.1) 0.770000ms\r\n",
      "\u001B[32m[I 10:54:13.917 NotebookApp]\u001B[m 302 GET /notebooks/images/figure2A.png (127.0.0.1) 1.050000ms\r\n",
      "\u001B[32m[I 10:54:13.917 NotebookApp]\u001B[m 302 GET /notebooks/images/figure2B.png (127.0.0.1) 1.230000ms\r\n",
      "\u001B[32m[I 10:54:13.918 NotebookApp]\u001B[m 302 GET /notebooks/images/figure1B.png (127.0.0.1) 1.370000ms\r\n",
      "\u001B[32m[I 10:54:13.919 NotebookApp]\u001B[m 302 GET /notebooks/images/figure3.png (127.0.0.1) 0.940000ms\r\n",
      "\u001B[32m[I 10:54:13.919 NotebookApp]\u001B[m 302 GET /notebooks/images/figure2CD.png (127.0.0.1) 1.020000ms\r\n",
      "\u001B[32m[I 10:54:13.920 NotebookApp]\u001B[m 302 GET /notebooks/images/figure1C.png (127.0.0.1) 0.670000ms\r\n",
      "\u001B[32m[I 10:54:13.926 NotebookApp]\u001B[m 302 GET /notebooks/images/image6.png (127.0.0.1) 0.760000ms\r\n",
      "\u001B[32m[I 10:54:14.158 NotebookApp]\u001B[m Kernel started: cddfc437-9b8a-42b2-98b0-e5f87063e770, name: python3\r\n",
      "[IPKernelApp] ERROR | No such comm target registered: jupyter.widget.control\r\n",
      "[IPKernelApp] WARNING | No such comm: 293bf7ce-a245-4c5d-a698-4006d46349d5\r\n",
      "\u001B[33m[W 10:54:34.598 NotebookApp]\u001B[m 404 GET /notebooks/f83a8b8886694eaef4505dd80af7a430.png (127.0.0.1): file or directory does not exist: 'f83a8b8886694eaef4505dd80af7a430.png'\r\n",
      "\u001B[33m[W 10:54:34.602 NotebookApp]\u001B[m 404 GET /notebooks/f83a8b8886694eaef4505dd80af7a430.png (127.0.0.1) 4.290000ms referer=http://localhost:8890/notebooks/T03_proteinfolding.ipynb\r\n",
      "\u001B[32m[I 11:46:14.035 NotebookApp]\u001B[m Starting buffering for cddfc437-9b8a-42b2-98b0-e5f87063e770:a28cd7eaffaf4e6a83f48d2b024185ff\r\n"
     ]
    }
   ],
   "source": [
    "import numpy as np\n",
    "# This will re-direct us to a new jupyter instance with an increased data rate limit allowing protein structure rendering using nglview.\n",
    "!jupyter notebook --NotebookApp.iopub_data_rate_limit=1.0e10"
   ]
  },
  {
   "cell_type": "markdown",
   "metadata": {},
   "source": [
    "### Setup\n",
    "\n",
    "This will download the OmegaFold package source files from GitHub. (~2 MB)"
   ]
  },
  {
   "cell_type": "code",
   "execution_count": null,
   "metadata": {},
   "outputs": [],
   "source": [
    "import os\n",
    "!pip install git+https://github.com/HeliXonProtein/OmegaFold.git"
   ]
  },
  {
   "cell_type": "markdown",
   "metadata": {},
   "source": [
    "This will clone the repository. Then, it will set up the OmegaFold package."
   ]
  },
  {
   "cell_type": "code",
   "execution_count": null,
   "metadata": {},
   "outputs": [],
   "source": [
    "!git clone https://github.com/HeliXonProtein/OmegaFold\n",
    "os.chdir('OmegaFold')\n",
    "!python setup.py install\n",
    "os.chdir('..')"
   ]
  },
  {
   "cell_type": "markdown",
   "metadata": {},
   "source": [
    "### Processing the input sequences\n",
    "\n",
    "This will run the model. But first, it will download the weights from AWS. (~3 GB)\n",
    "\n",
    "**Note**: The `--device cuda` argument only works if an NVIDIA GPU is available otherwise `--device cpu` should be used. See next cell for more info.\n",
    "\n",
    "##### Add explanation about hardware requirements and what to do aobut it"
   ]
  },
  {
   "cell_type": "code",
   "execution_count": null,
   "metadata": {},
   "outputs": [],
   "source": [
    "!omegafold ./data/rcsb_pdb_6YJ1.fasta ./output --device cuda --num_cycle 20 --model 1"
   ]
  },
  {
   "cell_type": "code",
   "execution_count": 5,
   "outputs": [
    {
     "name": "stdout",
     "output_type": "stream",
     "text": [
      "INFO:root:Loading weights from /Users/introvertuoso/.cache/omegafold_ckpt/model.pt\r\n",
      "INFO:root:Constructing OmegaFold\r\n",
      "INFO:root:Reading ./data/rcsb_pdb_7FVU.fasta\r\n",
      "INFO:root:Predicting 1th chain in ./data/rcsb_pdb_7FVU.fasta\r\n",
      "INFO:root:134 residues in this chain.\r\n",
      "INFO:root:Finished prediction in 65.82 seconds.\r\n",
      "INFO:root:Saving prediction to ./output/7FVU_1|Chain A|Fatty acid-binding protein, adipocyte|Homo sapiens (9606).pdb\r\n",
      "INFO:root:Saved\r\n",
      "INFO:root:Done!\r\n"
     ]
    }
   ],
   "source": [
    "!omegafold ./data/rcsb_pdb_7FVU.fasta ./output --device cpu --num_cycle 4 --model 1"
   ],
   "metadata": {
    "collapsed": false,
    "ExecuteTime": {
     "end_time": "2023-06-20T08:50:06.137048Z",
     "start_time": "2023-06-20T08:48:54.497915Z"
    }
   }
  },
  {
   "cell_type": "markdown",
   "metadata": {},
   "source": [
    "This will show the model parameters. It provides several options for compute, memory and weights."
   ]
  },
  {
   "cell_type": "code",
   "execution_count": null,
   "metadata": {},
   "outputs": [],
   "source": [
    "!omegafold --help"
   ]
  },
  {
   "cell_type": "markdown",
   "metadata": {},
   "source": [
    "### Analyzing the output predictions"
   ]
  },
  {
   "cell_type": "code",
   "execution_count": 23,
   "outputs": [],
   "source": [
    "from Bio.PDB import *\n",
    "import nglview as nv\n",
    "import numpy as np"
   ],
   "metadata": {
    "collapsed": false,
    "ExecuteTime": {
     "end_time": "2023-06-26T22:02:36.221748Z",
     "start_time": "2023-06-26T22:02:36.208238Z"
    }
   }
  },
  {
   "cell_type": "markdown",
   "source": [
    "#### 6YJ1"
   ],
   "metadata": {
    "collapsed": false
   }
  },
  {
   "cell_type": "markdown",
   "source": [
    "This will parse the ground truth and the predicted crystalline structures of the first chain (chain 'A') in the first model (model 0) of this structure.\n",
    "\n",
    "**Note**: For this structure there is in fact two chains, A and B. We're only concerned with chain 'A'."
   ],
   "metadata": {
    "collapsed": false
   }
  },
  {
   "cell_type": "code",
   "execution_count": 162,
   "metadata": {
    "ExecuteTime": {
     "end_time": "2023-06-26T23:37:23.901745Z",
     "start_time": "2023-06-26T23:37:23.804785Z"
    }
   },
   "outputs": [
    {
     "name": "stderr",
     "output_type": "stream",
     "text": [
      "/Users/introvertuoso/python3.10_venv/lib/python3.9/site-packages/Bio/PDB/StructureBuilder.py:89: PDBConstructionWarning: WARNING: Chain A is discontinuous at line 3168.\n",
      "  warnings.warn(\n",
      "/Users/introvertuoso/python3.10_venv/lib/python3.9/site-packages/Bio/PDB/StructureBuilder.py:89: PDBConstructionWarning: WARNING: Chain B is discontinuous at line 3169.\n",
      "  warnings.warn(\n",
      "/Users/introvertuoso/python3.10_venv/lib/python3.9/site-packages/Bio/PDB/StructureBuilder.py:89: PDBConstructionWarning: WARNING: Chain A is discontinuous at line 3170.\n",
      "  warnings.warn(\n",
      "/Users/introvertuoso/python3.10_venv/lib/python3.9/site-packages/Bio/PDB/StructureBuilder.py:89: PDBConstructionWarning: WARNING: Chain B is discontinuous at line 3228.\n",
      "  warnings.warn(\n"
     ]
    }
   ],
   "source": [
    "structure_true = PDBParser().get_structure(\"true\", \"data/6yj1.pdb\")[0]\n",
    "structure_pred = PDBParser().get_structure(\"pred\", \"output/0th chain.pdb\")[0]"
   ]
  },
  {
   "cell_type": "markdown",
   "metadata": {},
   "source": [
    "This will render the two structures together after CE alignment."
   ]
  },
  {
   "cell_type": "code",
   "execution_count": 163,
   "metadata": {
    "ExecuteTime": {
     "end_time": "2023-06-26T23:37:23.902789Z",
     "start_time": "2023-06-26T23:37:23.839037Z"
    }
   },
   "outputs": [
    {
     "data": {
      "text/plain": "NGLWidget()",
      "application/vnd.jupyter.widget-view+json": {
       "version_major": 2,
       "version_minor": 0,
       "model_id": "67a4fc01954c4f2890acb87e72c140f2"
      }
     },
     "metadata": {},
     "output_type": "display_data"
    }
   ],
   "source": [
    "view_aligned = nv.show_biopython(structure_true[\"A\"])\n",
    "view_aligned.update_cartoon(color='blue')\n",
    "view_aligned.add_structure(nv.BiopythonStructure(structure_pred[\"A\"]))\n",
    "view_aligned.update_cartoon(color='orange', component=1)\n",
    "view_aligned"
   ]
  },
  {
   "cell_type": "markdown",
   "source": [
    "This outputs the RMS score after applying \"Protein structure alignment by incremental combinatorial extension (CE) of the optimal path\"."
   ],
   "metadata": {
    "collapsed": false
   }
  },
  {
   "cell_type": "code",
   "execution_count": 164,
   "outputs": [
    {
     "data": {
      "text/plain": "5.652865371217041"
     },
     "execution_count": 164,
     "metadata": {},
     "output_type": "execute_result"
    }
   ],
   "source": [
    "cea = cealign.CEAligner()\n",
    "cea.set_reference(structure_true)\n",
    "cea.align(structure_pred, transform=True)\n",
    "cea.rms"
   ],
   "metadata": {
    "collapsed": false,
    "ExecuteTime": {
     "end_time": "2023-06-26T23:37:24.018440Z",
     "start_time": "2023-06-26T23:37:23.917517Z"
    }
   }
  },
  {
   "cell_type": "code",
   "execution_count": 165,
   "outputs": [
    {
     "data": {
      "text/plain": "<Figure size 800x300 with 1 Axes>",
      "image/png": "[encoded data removed]"
     },
     "metadata": {},
     "output_type": "display_data"
    }
   ],
   "source": [
    "# Obtain secondary structure annotations. a=helix, b=sheet, c=loop\n",
    "import biotite.structure.io as strucio\n",
    "import biotite.structure as struc\n",
    "\n",
    "array = strucio.load_structure(\"data/6yj1.pdb\")\n",
    "sse = struc.annotate_sse(array, chain_id=\"A\")\n",
    "# print('Annotation of the residues based on the secondary structure they belong to:')\n",
    "# print('legend: a=helix, b=sheet, c=loop')\n",
    "# print(\"\".join(sse))\n",
    "\n",
    "# Copied code from the biotite documentation\n",
    "\n",
    "import biotite.sequence.graphics as graphics\n",
    "import biotite.sequence as seq\n",
    "import biotite\n",
    "from matplotlib.patches import Rectangle\n",
    "import matplotlib.pyplot as plt\n",
    "\n",
    "# Create 'FeaturePlotter' subclasses\n",
    "# for drawing the scondary structure features\n",
    "\n",
    "class HelixPlotter(graphics.FeaturePlotter):\n",
    "\n",
    "    def __init__(self):\n",
    "        pass\n",
    "\n",
    "    # Check whether this class is applicable for drawing a feature\n",
    "    def matches(self, feature):\n",
    "        if feature.key == \"SecStr\":\n",
    "            if \"sec_str_type\" in feature.qual:\n",
    "                if feature.qual[\"sec_str_type\"] == \"helix\":\n",
    "                    return True\n",
    "        return False\n",
    "\n",
    "    # The drawing function itself\n",
    "    def draw(self, axes, feature, bbox, loc, style_param):\n",
    "        # Approx. 1 turn per 3.6 residues to resemble natural helix\n",
    "        n_turns = np.ceil((loc.last - loc.first + 1) / 3.6)\n",
    "        x_val = np.linspace(0, n_turns * 2*np.pi, 100)\n",
    "        # Curve ranges from 0.3 to 0.7\n",
    "        y_val = (-0.4*np.sin(x_val) + 1) / 2\n",
    "\n",
    "        # Transform values for correct location in feature map\n",
    "        x_val *= bbox.width / (n_turns * 2*np.pi)\n",
    "        x_val += bbox.x0\n",
    "        y_val *= bbox.height\n",
    "        y_val += bbox.y0\n",
    "\n",
    "        # Draw white background to overlay the guiding line\n",
    "        background = Rectangle(\n",
    "            bbox.p0, bbox.width, bbox.height, color=\"white\", linewidth=0\n",
    "        )\n",
    "        axes.add_patch(background)\n",
    "        axes.plot(\n",
    "            x_val, y_val, linewidth=2, color=biotite.colors[\"dimgreen\"]\n",
    "        )\n",
    "\n",
    "\n",
    "class SheetPlotter(graphics.FeaturePlotter):\n",
    "\n",
    "    def __init__(self, head_width=0.8, tail_width=0.5):\n",
    "        self._head_width = head_width\n",
    "        self._tail_width = tail_width\n",
    "\n",
    "\n",
    "    def matches(self, feature):\n",
    "        if feature.key == \"SecStr\":\n",
    "            if \"sec_str_type\" in feature.qual:\n",
    "                if feature.qual[\"sec_str_type\"] == \"sheet\":\n",
    "                    return True\n",
    "        return False\n",
    "\n",
    "    def draw(self, axes, feature, bbox, loc, style_param):\n",
    "        x = bbox.x0\n",
    "        y = bbox.y0 + bbox.height/2\n",
    "        dx = bbox.width\n",
    "        dy = 0\n",
    "\n",
    "        if  loc.defect & seq.Location.Defect.MISS_RIGHT:\n",
    "            # If the feature extends into the prevoius or next line\n",
    "            # do not draw an arrow head\n",
    "            draw_head = False\n",
    "        else:\n",
    "            draw_head = True\n",
    "\n",
    "        axes.add_patch(biotite.AdaptiveFancyArrow(\n",
    "            x, y, dx, dy,\n",
    "            self._tail_width*bbox.height, self._head_width*bbox.height,\n",
    "            # Create head with 90 degrees tip\n",
    "            # -> head width/length ratio = 1/2\n",
    "            head_ratio=0.5, draw_head=draw_head,\n",
    "            color=biotite.colors[\"orange\"], linewidth=0\n",
    "        ))\n",
    "\n",
    "# Helper function to convert secondary structure array to annotation\n",
    "# and visualize it\n",
    "def visualize_secondary_structure(sse, first_id):\n",
    "\n",
    "    def _add_sec_str(annotation, first, last, str_type):\n",
    "        if str_type == \"a\":\n",
    "            str_type = \"helix\"\n",
    "        elif str_type == \"b\":\n",
    "            str_type = \"sheet\"\n",
    "        else:\n",
    "            # coil\n",
    "            return\n",
    "        feature = seq.Feature(\n",
    "            \"SecStr\", [seq.Location(first, last)], {\"sec_str_type\" : str_type}\n",
    "        )\n",
    "        annotation.add_feature(feature)\n",
    "\n",
    "    # Find the intervals for each secondary structure element\n",
    "    # and add to annotation\n",
    "    annotation = seq.Annotation()\n",
    "    curr_sse = None\n",
    "    curr_start = None\n",
    "    for i in range(len(sse)):\n",
    "        if curr_start is None:\n",
    "            curr_start = i\n",
    "            curr_sse = sse[i]\n",
    "        else:\n",
    "            if sse[i] != sse[i-1]:\n",
    "                _add_sec_str(\n",
    "                    annotation, curr_start+first_id, i-1+first_id, curr_sse\n",
    "                )\n",
    "                curr_start = i\n",
    "                curr_sse = sse[i]\n",
    "    # Add last secondary structure element to annotation\n",
    "    _add_sec_str(annotation, curr_start+first_id, i-1+first_id, curr_sse)\n",
    "\n",
    "    fig = plt.figure(figsize=(8.0, 3.0))\n",
    "    ax = fig.add_subplot(111)\n",
    "    graphics.plot_feature_map(\n",
    "        ax, annotation, symbols_per_line=150,\n",
    "        loc_range=(first_id, first_id+len(sse)),\n",
    "        show_numbers=True, show_line_position=True,\n",
    "        feature_plotters=[HelixPlotter(), SheetPlotter()]\n",
    "    )\n",
    "    fig.tight_layout()\n",
    "\n",
    "visualize_secondary_structure(sse, array.res_id[0])\n",
    "plt.show()"
   ],
   "metadata": {
    "collapsed": false,
    "ExecuteTime": {
     "end_time": "2023-06-26T23:37:24.065832Z",
     "start_time": "2023-06-26T23:37:23.961491Z"
    }
   }
  },
  {
   "cell_type": "code",
   "execution_count": 166,
   "outputs": [
    {
     "name": "stdout",
     "output_type": "stream",
     "text": [
      "a rmsd: 28.002544313095683\n",
      "b rmsd: 23.304894123487326\n",
      "c rmsd: 22.30228722265954\n"
     ]
    }
   ],
   "source": [
    "# Add RMSD values for each type of section\n",
    "\n",
    "for a in ['a', 'b', 'c']:\n",
    "    true_coords = []\n",
    "    pred_coords = []\n",
    "    cnt = 0\n",
    "    for t, p in zip(structure_true['A'].get_residues(), structure_pred['A'].get_residues()):\n",
    "        if cnt >= len(sse):\n",
    "            break\n",
    "        if sse[cnt] == a:\n",
    "            true_coords.extend([i.coord for i in t.get_atoms()])\n",
    "            pred_coords.extend([i.coord for i in p.get_atoms()])\n",
    "        cnt += 1\n",
    "    discrepancy = len(true_coords) - len(pred_coords)\n",
    "    if discrepancy >= 0:\n",
    "        for i in range(discrepancy):\n",
    "            pred_coords.append([0,0,0])\n",
    "    else:\n",
    "        for i in range(-discrepancy):\n",
    "            true_coords.append([0,0,0])\n",
    "    true_coords = np.array(true_coords)\n",
    "    pred_coords = np.array(pred_coords)\n",
    "\n",
    "    diff = true_coords - pred_coords\n",
    "    print(f'{a} rmsd: {np.sqrt(sum(sum(diff**2))/true_coords.shape[0])}')"
   ],
   "metadata": {
    "collapsed": false,
    "ExecuteTime": {
     "end_time": "2023-06-26T23:37:24.077298Z",
     "start_time": "2023-06-26T23:37:24.068783Z"
    }
   }
  },
  {
   "cell_type": "code",
   "execution_count": 167,
   "outputs": [
    {
     "name": "stdout",
     "output_type": "stream",
     "text": [
      "average confidence for helices: 37.42\n",
      "average confidence for sheets: 91.05\n",
      "average confidence for loops: 88.04\n"
     ]
    }
   ],
   "source": [
    "# Add atom location confidences as a heatmap... maybe group by section if possible\n",
    "\n",
    "import statistics\n",
    "\n",
    "for a in ['a', 'b', 'c']:\n",
    "    factors = []\n",
    "    cnt = 0\n",
    "    for p in structure_pred['A'].get_residues():\n",
    "        if cnt >= len(sse):\n",
    "            break\n",
    "        if sse[cnt] == a:\n",
    "            factors.extend([i.get_bfactor() for i in t.get_atoms()])\n",
    "            factors.extend([i.get_bfactor() for i in p.get_atoms()])\n",
    "        cnt += 1\n",
    "\n",
    "    print(f'average confidence for {\"helices\" if a == \"a\" else (\"sheets\" if a == \"b\" else \"loops\")}: {statistics.median(factors)}')"
   ],
   "metadata": {
    "collapsed": false,
    "ExecuteTime": {
     "end_time": "2023-06-26T23:37:24.100698Z",
     "start_time": "2023-06-26T23:37:24.079756Z"
    }
   }
  },
  {
   "cell_type": "code",
   "execution_count": 168,
   "outputs": [
    {
     "data": {
      "text/plain": "<Figure size 640x480 with 2 Axes>",
      "image/png": "[encoded data removed]"
     },
     "metadata": {},
     "output_type": "display_data"
    }
   ],
   "source": [
    "# Add swiss model -> ramachandran plot\n",
    "\n",
    "# Copied code from the biotite documentation\n",
    "\n",
    "# Code source: Patrick Kunzmann\n",
    "# License: BSD 3 clause\n",
    "\n",
    "from tempfile import gettempdir\n",
    "import matplotlib.pyplot as plt\n",
    "from matplotlib import colors\n",
    "import scipy.stats as sts\n",
    "\n",
    "# Download and parse file\n",
    "atom_array = strucio.load_structure(\"data/6yj1.pdb\")\n",
    "# Calculate backbone dihedral angles\n",
    "# from one of the two identical chains in the asymmetric unit\n",
    "phi, psi, omega = struc.dihedral_backbone(\n",
    "    atom_array[atom_array.chain_id == \"A\"]\n",
    ")\n",
    "# Conversion from radians into degree\n",
    "phi *= 180/np.pi\n",
    "psi *= 180/np.pi\n",
    "# Remove invalid values (NaN) at first and last position\n",
    "phi= phi[1:-1]\n",
    "psi= psi[1:-1]\n",
    "\n",
    "# Plot density\n",
    "figure = plt.figure()\n",
    "ax = figure.add_subplot(111)\n",
    "h, xed, yed, image = ax.hist2d(phi, psi, bins=(200, 200),\n",
    "                cmap=\"RdYlGn_r\", cmin=1)\n",
    "cbar = figure.colorbar(image, orientation=\"vertical\")\n",
    "cbar.set_label(\"Count\")\n",
    "ax.set_aspect(\"equal\")\n",
    "ax.set_xlim(-180, 175)\n",
    "ax.set_ylim(-180, 175)\n",
    "ax.set_xlabel(r\"$\\phi$\")\n",
    "ax.set_ylabel(r\"$\\psi$\")\n",
    "ax.set_title(\"Ramachandran plot\")\n",
    "figure.tight_layout()\n",
    "plt.show()"
   ],
   "metadata": {
    "collapsed": false,
    "ExecuteTime": {
     "end_time": "2023-06-26T23:37:24.238880Z",
     "start_time": "2023-06-26T23:37:24.104485Z"
    }
   }
  },
  {
   "cell_type": "code",
   "execution_count": 169,
   "outputs": [
    {
     "data": {
      "text/plain": "<Figure size 640x480 with 2 Axes>",
      "image/png": "[encoded data removed]"
     },
     "metadata": {},
     "output_type": "display_data"
    }
   ],
   "source": [
    "# Copied code from the biotite documentation\n",
    "\n",
    "atom_array = strucio.load_structure(\"output/0th chain.pdb\")\n",
    "# Calculate backbone dihedral angles\n",
    "# from one of the two identical chains in the asymmetric unit\n",
    "phi, psi, omega = struc.dihedral_backbone(\n",
    "    atom_array[atom_array.chain_id == \"A\"]\n",
    ")\n",
    "# Conversion from radians into degree\n",
    "phi *= 180/np.pi\n",
    "psi *= 180/np.pi\n",
    "# Remove invalid values (NaN) at first and last position\n",
    "phi= phi[1:-1]\n",
    "psi= psi[1:-1]\n",
    "\n",
    "# Plot density\n",
    "figure = plt.figure()\n",
    "ax = figure.add_subplot(111)\n",
    "h, xed, yed, image = ax.hist2d(phi, psi, bins=(200, 200),\n",
    "                cmap=\"RdYlGn_r\", cmin=1)\n",
    "cbar = figure.colorbar(image, orientation=\"vertical\")\n",
    "cbar.set_label(\"Count\")\n",
    "ax.set_aspect(\"equal\")\n",
    "ax.set_xlim(-180, 175)\n",
    "ax.set_ylim(-180, 175)\n",
    "ax.set_xlabel(r\"$\\phi$\")\n",
    "ax.set_ylabel(r\"$\\psi$\")\n",
    "ax.set_title(\"Ramachandran plot\")\n",
    "figure.tight_layout()\n",
    "plt.show()"
   ],
   "metadata": {
    "collapsed": false,
    "ExecuteTime": {
     "end_time": "2023-06-26T23:37:24.437397Z",
     "start_time": "2023-06-26T23:37:24.240233Z"
    }
   }
  },
  {
   "cell_type": "markdown",
   "source": [
    "#### 7FVU"
   ],
   "metadata": {
    "collapsed": false
   }
  },
  {
   "cell_type": "markdown",
   "source": [
    "Here we do the same as above for another structure."
   ],
   "metadata": {
    "collapsed": false
   }
  },
  {
   "cell_type": "code",
   "execution_count": 170,
   "outputs": [],
   "source": [
    "structure_true = PDBParser().get_structure(\"true\", \"data/7fvu.pdb\")[0]\n",
    "structure_pred = PDBParser().get_structure(\"pred\", \"output/7FVU_1|Chain A|Fatty acid-binding protein, adipocyte|Homo sapiens (9606).pdb\")[0]"
   ],
   "metadata": {
    "collapsed": false,
    "ExecuteTime": {
     "end_time": "2023-06-26T23:37:24.468805Z",
     "start_time": "2023-06-26T23:37:24.437150Z"
    }
   }
  },
  {
   "cell_type": "code",
   "execution_count": 171,
   "outputs": [
    {
     "data": {
      "text/plain": "NGLWidget()",
      "application/vnd.jupyter.widget-view+json": {
       "version_major": 2,
       "version_minor": 0,
       "model_id": "61736d23d7704068b95e02f36a53f446"
      }
     },
     "metadata": {},
     "output_type": "display_data"
    }
   ],
   "source": [
    "view_aligned = nv.show_biopython(structure_true[\"A\"])\n",
    "view_aligned.update_cartoon(color='blue')\n",
    "view_aligned.add_structure(nv.BiopythonStructure(structure_pred[\"A\"]))\n",
    "view_aligned.update_cartoon(color='orange', component=1)\n",
    "view_aligned"
   ],
   "metadata": {
    "collapsed": false,
    "ExecuteTime": {
     "end_time": "2023-06-26T23:37:24.514135Z",
     "start_time": "2023-06-26T23:37:24.466730Z"
    }
   }
  },
  {
   "cell_type": "code",
   "execution_count": 172,
   "outputs": [
    {
     "data": {
      "text/plain": "0.4792816996232876"
     },
     "execution_count": 172,
     "metadata": {},
     "output_type": "execute_result"
    }
   ],
   "source": [
    "cea = cealign.CEAligner()\n",
    "cea.set_reference(structure_true)\n",
    "cea.align(structure_pred, transform=True)\n",
    "cea.rms"
   ],
   "metadata": {
    "collapsed": false,
    "ExecuteTime": {
     "end_time": "2023-06-26T23:37:24.570492Z",
     "start_time": "2023-06-26T23:37:24.540053Z"
    }
   }
  },
  {
   "cell_type": "code",
   "execution_count": 173,
   "outputs": [
    {
     "data": {
      "text/plain": "<Figure size 800x300 with 1 Axes>",
      "image/png": "[encoded data removed]"
     },
     "metadata": {},
     "output_type": "display_data"
    }
   ],
   "source": [
    "array = strucio.load_structure(\"data/7fvu.pdb\")\n",
    "sse = struc.annotate_sse(array, chain_id=\"A\")\n",
    "# print('Annotation of the residues based on the secondary structure they belong to:')\n",
    "# print('legend: a=helix, b=sheet, c=loop')\n",
    "# print(\"\".join(sse))\n",
    "\n",
    "visualize_secondary_structure(sse, array.res_id[0])\n",
    "plt.show()"
   ],
   "metadata": {
    "collapsed": false,
    "ExecuteTime": {
     "end_time": "2023-06-26T23:37:24.683361Z",
     "start_time": "2023-06-26T23:37:24.580644Z"
    }
   }
  },
  {
   "cell_type": "code",
   "execution_count": 174,
   "outputs": [
    {
     "name": "stdout",
     "output_type": "stream",
     "text": [
      "helices rmsd: 1.2065100088766818\n",
      "sheets rmsd: 0.9634398871842591\n",
      "loops rmsd: 1.2845633697368621\n"
     ]
    }
   ],
   "source": [
    "# Add RMSD values for each type of section\n",
    "\n",
    "# Obtain secondary structure annotations. a=helix, b=sheet, c=loop\n",
    "for a in ['a', 'b', 'c']:\n",
    "    true_coords = []\n",
    "    pred_coords = []\n",
    "    cnt = 0\n",
    "    for t, p in zip(structure_true['A'].get_residues(), structure_pred['A'].get_residues()):\n",
    "        if cnt >= len(sse):\n",
    "            break\n",
    "        if sse[cnt] == a:\n",
    "            true_coords.extend([i.coord for i in t.get_atoms()])\n",
    "            pred_coords.extend([i.coord for i in p.get_atoms()])\n",
    "        cnt += 1\n",
    "    discrepancy = len(true_coords) - len(pred_coords)\n",
    "    if discrepancy >= 0:\n",
    "        for i in range(discrepancy):\n",
    "            pred_coords.append([0,0,0])\n",
    "    else:\n",
    "        for i in range(-discrepancy):\n",
    "            true_coords.append([0,0,0])\n",
    "    true_coords = np.array(true_coords)\n",
    "    pred_coords = np.array(pred_coords)\n",
    "\n",
    "    diff = true_coords - pred_coords\n",
    "    print(f'{\"helices\" if a == \"a\" else (\"sheets\" if a == \"b\" else \"loops\")} rmsd: {np.sqrt(sum(sum(diff**2))/true_coords.shape[0])}')"
   ],
   "metadata": {
    "collapsed": false,
    "ExecuteTime": {
     "end_time": "2023-06-26T23:37:24.697001Z",
     "start_time": "2023-06-26T23:37:24.685807Z"
    }
   }
  },
  {
   "cell_type": "code",
   "execution_count": 175,
   "outputs": [
    {
     "name": "stdout",
     "output_type": "stream",
     "text": [
      "average confidence for helices: 92.45\n",
      "average confidence for sheets: 96.21\n",
      "average confidence for loops: 81.53\n"
     ]
    }
   ],
   "source": [
    "# Add atom location confidences as a heatmap... maybe group by section if possible\n",
    "\n",
    "import statistics\n",
    "\n",
    "for a in ['a', 'b', 'c']:\n",
    "    factors = []\n",
    "    cnt = 0\n",
    "    for p in structure_pred['A'].get_residues():\n",
    "        if cnt >= len(sse):\n",
    "            break\n",
    "        if sse[cnt] == a:\n",
    "            factors.extend([i.get_bfactor() for i in t.get_atoms()])\n",
    "            factors.extend([i.get_bfactor() for i in p.get_atoms()])\n",
    "        cnt += 1\n",
    "\n",
    "    print(f'average confidence for {\"helices\" if a == \"a\" else (\"sheets\" if a == \"b\" else \"loops\")}: {statistics.median(factors)}')\n",
    "    # fig = px.imshow(factors, color_continuous_scale=px.colors.sequential.Cividis_r)\n",
    "    # fig.show()"
   ],
   "metadata": {
    "collapsed": false,
    "ExecuteTime": {
     "end_time": "2023-06-26T23:37:24.736042Z",
     "start_time": "2023-06-26T23:37:24.696390Z"
    }
   }
  },
  {
   "cell_type": "code",
   "execution_count": 176,
   "outputs": [
    {
     "data": {
      "text/plain": "<Figure size 640x480 with 2 Axes>",
      "image/png": "[encoded data removed]"
     },
     "metadata": {},
     "output_type": "display_data"
    }
   ],
   "source": [
    "# Add swiss model -> ramachandran plot\n",
    "\n",
    "# Code source: Patrick Kunzmann\n",
    "# License: BSD 3 clause\n",
    "\n",
    "from tempfile import gettempdir\n",
    "from matplotlib import colors\n",
    "import scipy.stats as sts\n",
    "\n",
    "# Download and parse file\n",
    "atom_array = strucio.load_structure(\"data/7fvu.pdb\")\n",
    "# Calculate backbone dihedral angles\n",
    "# from one of the two identical chains in the asymmetric unit\n",
    "phi, psi, omega = struc.dihedral_backbone(\n",
    "    atom_array[atom_array.chain_id == \"A\"]\n",
    ")\n",
    "# Conversion from radians into degree\n",
    "phi *= 180/np.pi\n",
    "psi *= 180/np.pi\n",
    "# Remove invalid values (NaN) at first and last position\n",
    "phi= phi[1:-1]\n",
    "psi= psi[1:-1]\n",
    "\n",
    "# Plot density\n",
    "figure = plt.figure()\n",
    "ax = figure.add_subplot(111)\n",
    "h, xed, yed, image = ax.hist2d(phi, psi, bins=(200, 200),\n",
    "                cmap=\"RdYlGn_r\", cmin=1)\n",
    "cbar = figure.colorbar(image, orientation=\"vertical\")\n",
    "cbar.set_label(\"Count\")\n",
    "ax.set_aspect(\"equal\")\n",
    "ax.set_xlim(-180, 175)\n",
    "ax.set_ylim(-180, 175)\n",
    "ax.set_xlabel(r\"$\\phi$\")\n",
    "ax.set_ylabel(r\"$\\psi$\")\n",
    "ax.set_title(\"Ramachandran plot\")\n",
    "figure.tight_layout()\n",
    "plt.show()"
   ],
   "metadata": {
    "collapsed": false,
    "ExecuteTime": {
     "end_time": "2023-06-26T23:37:24.852005Z",
     "start_time": "2023-06-26T23:37:24.706882Z"
    }
   }
  },
  {
   "cell_type": "code",
   "execution_count": 177,
   "outputs": [
    {
     "data": {
      "text/plain": "<Figure size 640x480 with 2 Axes>",
      "image/png": "[encoded data removed]"
     },
     "metadata": {},
     "output_type": "display_data"
    }
   ],
   "source": [
    "atom_array = strucio.load_structure(\"output/7FVU_1|Chain A|Fatty acid-binding protein, adipocyte|Homo sapiens (9606).pdb\")\n",
    "# Calculate backbone dihedral angles\n",
    "# from one of the two identical chains in the asymmetric unit\n",
    "phi, psi, omega = struc.dihedral_backbone(\n",
    "    atom_array[atom_array.chain_id == \"A\"]\n",
    ")\n",
    "# Conversion from radians into degree\n",
    "phi *= 180/np.pi\n",
    "psi *= 180/np.pi\n",
    "# Remove invalid values (NaN) at first and last position\n",
    "phi= phi[1:-1]\n",
    "psi= psi[1:-1]\n",
    "\n",
    "# Plot density\n",
    "figure = plt.figure()\n",
    "ax = figure.add_subplot(111)\n",
    "h, xed, yed, image = ax.hist2d(phi, psi, bins=(200, 200),\n",
    "                cmap=\"RdYlGn_r\", cmin=1)\n",
    "cbar = figure.colorbar(image, orientation=\"vertical\")\n",
    "cbar.set_label(\"Count\")\n",
    "ax.set_aspect(\"equal\")\n",
    "ax.set_xlim(-180, 175)\n",
    "ax.set_ylim(-180, 175)\n",
    "ax.set_xlabel(r\"$\\phi$\")\n",
    "ax.set_ylabel(r\"$\\psi$\")\n",
    "ax.set_title(\"Ramachandran plot\")\n",
    "figure.tight_layout()\n",
    "plt.show()"
   ],
   "metadata": {
    "collapsed": false,
    "ExecuteTime": {
     "end_time": "2023-06-26T23:37:24.970598Z",
     "start_time": "2023-06-26T23:37:24.848907Z"
    }
   }
  },
  {
   "cell_type": "markdown",
   "source": [
    "### Explaining the results"
   ],
   "metadata": {
    "collapsed": false
   }
  },
  {
   "cell_type": "markdown",
   "source": [
    "##### 2nd is a very recently deposited structure -> no leakage\n",
    "##### 2nd has no missing residues\n",
    "##### Compare the 2 predictions\n",
    "##### Explain what the RMSD of the first (=5) and the 2nd (=0.4) mean\n",
    "##### Describe the RMSDs/confidences between different types of sections AND residues in the binding site (binding site data not available).... loops, helices and sheets... where's the most deviations..."
   ],
   "metadata": {
    "collapsed": false
   }
  },
  {
   "cell_type": "markdown",
   "metadata": {},
   "source": [
    "## Discussion\n",
    "\n",
    "Using any of the structure prediction SOTA methods, it is viable to adequately predict a protein's fold from a sequence of amino acids. However, the story does not end here. OmegaFold fills a pivotal gap, as it is able to make predictions from sequences for which MSAs are not readily available. Future advancements in this field should facilitate a plethora of applications, including multi-state conformational sampling, variant effect prediction, intra-protein interactions, and protein docking. As important as it is to predict the fold, it is equally important to find protein conformations that bind to a binding partner of interest or the other way around. That is what dictates protein function. That way, we can design effective drugs for virtually any disease or to solve dire challenges with bioengineering."
   ]
  },
  {
   "cell_type": "markdown",
   "metadata": {},
   "source": [
    "## Quiz\n",
    "\n",
    "- Investigate the trade-off of computation time and average prediction quality, by changing the number of cycles. How bad was the prediction?\n",
    "- Trade computation time for memory consumption, by changing subbatch size. How drastic are the reductions?\n",
    "- Look into using a different alignment algorithm (other than CE) and observe the RMS estimate. Does it differ?\n",
    "- Search the protein data bank (PDB) for another protein and attempt to fold it. Does the model perform as well, better, or worse than expected? Compare this to the example in Practical. More here: [PDB](https://www.rcsb.org/)\n",
    "- Another similar task is to look up another protein from the ones published for CASP14. Predict its structure and compare the accuracy to that of AlphaFold2. More here: [CASP14](https://predictioncenter.org/casp14/)\n",
    "- If you're up for a challenge, in a separate notebook, use AlphaFold2 and OmegaFold to predict the same protein and compare. More here: [AlphaFold2's GitHub page](https://github.com/deepmind/alphafold) and [RoseTTAFold's GitHub page](https://github.com/RosettaCommons/RoseTTAFold)\n",
    "- Some more practice, also something to help you understand how far we've come, but is also a challenge. Implement an older method, perhaps one that uses a CNN or a physics-based one to predict a protein structure. More here: [DeepCov](https://github.com/psipred/DeepCov)"
   ]
  },
  {
   "cell_type": "markdown",
   "metadata": {},
   "source": []
  }
 ],
 "metadata": {
  "kernelspec": {
   "display_name": "Python 3 (ipykernel)",
   "language": "python",
   "name": "python3"
  },
  "language_info": {
   "codemirror_mode": {
    "name": "ipython",
    "version": 3
   },
   "file_extension": ".py",
   "mimetype": "text/x-python",
   "name": "python",
   "nbconvert_exporter": "python",
   "pygments_lexer": "ipython3",
   "version": "3.9.6"
  }
 },
 "nbformat": 4,
 "nbformat_minor": 1
}
