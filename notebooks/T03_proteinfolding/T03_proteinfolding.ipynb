{
 "cells": [
  {
   "cell_type": "markdown",
   "metadata": {},
   "source": [
    "# Protein Folding\n",
    "\n",
    "**Note:** This talktorial is a part of TeachOpenCADD, a platform that aims to teach domain-specific skills and to provide pipeline templates as starting points for research projects.\n",
    "\n",
    "Authors:\n",
    "- Mhd Jawad Al Rahwanji, DDDD seminar 2023, Volkamer lab, Saarland University\n",
    "- Paula Linh Kramer, 2023, Volkamer lab, Saarland University"
   ]
  },
  {
   "cell_type": "markdown",
   "metadata": {},
   "source": [
    "## Aim of this talktorial\n",
    "\n",
    "In this notebook, we will learn about protein folding and how to predict protein structures using machine learning. This helps us understand diseases and accelerates drug development.\n",
    "\n",
    "Our work here will include visualizing and comparing the predicted structures to their corresponding crystalline forms."
   ]
  },
  {
   "cell_type": "markdown",
   "metadata": {},
   "source": [
    "### Contents in *Theory*\n",
    "\n",
    "* Protein Folding\n",
    "    * Proteins\n",
    "    * The Folding Problem\n",
    "* History\n",
    "    * CASP\n",
    "    * Breakthroughs\n",
    "* OmegaFold\n",
    "    * Innerworkings and Training\n",
    "    * Performance evaluation\n",
    "    * More on orphan proteins and antibodies\n",
    "    * Investigating the Geoformer\n",
    "    * Computational performance\n",
    "* Alternative Methods\n",
    "    * Quantum Approach\n",
    "    * Diffusion-based Models"
   ]
  },
  {
   "cell_type": "markdown",
   "metadata": {},
   "source": [
    "### Contents in *Practical*\n",
    "\n",
    "**Goal: Predict the 3D structure of a protein from a given sequence of amino acids**\n",
    "\n",
    "* Overview\n",
    "* Setup\n",
    "* Processing the input sequence\n",
    "* Analyzing the output predictions\n",
    "  * 6YJ1\n",
    "  * 7FVU\n",
    "* Analyzing the secondary structures\n",
    "  * 6YJ1\n",
    "  * 7FVU\n",
    "* Summary"
   ]
  },
  {
   "cell_type": "markdown",
   "metadata": {},
   "source": [
    "### References\n",
    "\n",
    "* [CASP](https://predictioncenter.org/)\n",
    "* AlphaFold2: [Jumper *et al.*, <i>Nature</i> (2021), <b>596</b>, 583–589](https://doi.org/10.1038/s41586-021-03819-2)\n",
    "* RoseTTAFold: [Baek *et al.*, <i>Science</i> (2021), <b>373</b>, 871-876](https://doi.org/10.1126/science.abj8754)\n",
    "* OmegaFold: [Wu *et al.*, <i>bioRxiv</i> (2022)](https://doi.org/10.1101/2022.07.21.500999)\n",
    "* [Baker lab](https://www.bakerlab.org/)\n",
    "* Quantum folding: [Robert *et al.*, <i>npj Quantum Inf.</i> (2021), <b>7</b>, 38](https://doi.org/10.1038/s41534-021-00368-4)\n",
    "* Protein generation: [Watson *et al.*, <i>bioRxiv</i> (2022)](https://doi.org/10.1101/2022.12.09.519842)\n",
    "* [OmegaFold on Github](https://github.com/HeliXonProtein/OmegaFold)"
   ]
  },
  {
   "cell_type": "markdown",
   "metadata": {},
   "source": [
    "## Theory"
   ]
  },
  {
   "cell_type": "markdown",
   "metadata": {},
   "source": [
    "### Protein Folding\n",
    "\n",
    "#### Proteins\n",
    "\n",
    "Proteins are the building blocks of life. Our DNA encodes a series of instructions for making proteins, which play a central role in almost all biological processes. From carrying oxygen to building muscles. They lend the human body its structure, get things done around the body, transport molecules and make new molecules. Proteins are linear chains of amino acids. There are 20 such amino acids. They fold in on themselves creating unique shapes or 3D structures made up of sheets and helices. These specific shapes determine protein functionality as they facilitate binding and docking.\n",
    "\n",
    "For example, Hemoglobin has a shape perfectly suited to binding a molecule of oxygen. Moreover, it changes the characteristics of the iron molecules causing them to hold and release oxygen molecules at different pressure levels.\n",
    "\n",
    "<img src=\"./images/image1.png\"  width=\"900\">\n",
    "\n",
    "**Image 1**: A 3D structure of a protein.\n",
    "\n",
    "We know of over 200 million proteins, but we only know the exact 3D shape of a fraction of them. Figuring out the sequence that makes up a protein is relatively simple as it is specified by the DNA using RNA. Figuring out a protein's functionality after knowing its shape is also fairly simple. It is extremely challenging, however, to bridge the gap. In other words, computationally predicting the shape the protein translates into based on its 1D amino acid sequence.\n",
    "\n",
    "<img src=\"./images/image2.png\"  width=\"1200\">\n",
    "\n",
    "**Image 2**: Protein creation process.\n",
    "\n",
    "#### The Folding Problem\n",
    "\n",
    "It has been a challenge for nearly 50 years. A protein can be made up of anywhere between 50 and 2000 amino acids. Each of which has a different chemical structure. These acids even interact physically with one another pushing and pulling the folding in arbitrary directions before stabilizing. Theoretically, a protein could fold into its final 3D structure in an astronomical number of ways. In 1969, [Cyrus Levinthal](https://en.wikipedia.org/wiki/Cyrus_Levinthal) estimated that to be about $10^{300}$ possible conformations for a regular protein. Yet in the wild, proteins fold in an instant effortlessly – a paradox we refer to as [Levinthal’s paradox](https://en.wikipedia.org/wiki/Levinthal%27s_paradox).\n",
    "\n",
    "<br/>\n",
    "<img src=\"./images/image3.gif\"  width=\"900\">\n",
    "\n",
    "**Image 3**: Protein folding process. Credit: DeepMind. [Source](https://techxplore.com/news/2020-01-alphafold-protein.html).\n",
    "\n",
    "One experimental way we can study protein structures is X-ray crystallography. Another is using nuclear magnetic resonance imaging. Both methods and newer methods like cryo-electron microscopy, are time-consuming and expensive to perform.\n",
    "\n",
    "The objective is to predict the 3D structure of a protein given a sequence of amino acids. The search space for this is enormous. Furthermore, we do not have a clear enough understanding of the process to be able to create a scoring function. Solving this problem has many positive implications. It would help us better understand the world around us, and design drugs to treat diseases or enzymes to break down plastic waste."
   ]
  },
  {
   "cell_type": "markdown",
   "metadata": {},
   "source": [
    "### History\n",
    "\n",
    "#### CASP\n",
    "\n",
    "Critical Assessment of Protein Structure Prediction ([CASP](https://predictioncenter.org/)) is a biennial competition to accelerate research, monitor progress, and foster the state of the art in protein structure prediction. The teams are given sequences of amino acids with known structures that haven't been revealed publicly. Their objective is to predict the structures. Then the predictions are compared to the ground truths using a metric called the global distance test (GDT). \"GDT is computed over the alpha carbon atoms and is reported as a percentage, ranging from 0 to 100. In general, the higher the GDT score, the more closely a model approximates a given reference structure\" ([Wiki](https://en.wikipedia.org/wiki/Global_distance_test)). Other measures include: root mean squared distance ([RMSD](https://en.wikipedia.org/wiki/Root-mean-square_deviation_of_atomic_positions)) and template modeling ([TM](https://en.wikipedia.org/wiki/Template_modeling_score)) score. In the early iterations of CASP, teams used to use physical and/or chemical properties at the atom or acid level. Until 2020 no team has achieved a score higher than 50% despite using deep learning techniques.\n",
    "\n",
    "#### Breakthroughs\n",
    "\n",
    "In [CASP14](https://predictioncenter.org/casp14/), [AlphaFold2](https://doi.org/10.1038/s41586-021-03819-2) achieved a median GDT score of 87% in the most challenging free-modeling category. That is, reconstructing the structure of a protein without using the structural knowledge of any significant template protein. It was trained on 100 thousand proteins from the protein data bank ([PDB](https://www.rcsb.org/)) and incorporates physical and biological knowledge about protein structure to improve prediction. The team was able to predict the exact position of thousands of atoms with high resolution.\n",
    "\n",
    "<br/>\n",
    "<img src=\"./images/image4.jpeg\"  width=\"1800\">\n",
    "\n",
    "**Image 4**: AlphaFold2 network architecture and performance. [Source](https://doi.org/10.1038/s41586-021-03819-2).\n",
    "\n",
    "Following that, [RoseTTAFold](https://www.science.org/doi/10.1126/science.abj8754) was announced performing about as well with less computational costs. It tracks amino acid positions during folding and handles protein complexes. Later on, the methods for both, AlphaFold2 and RoseTTAFold, were made publicly available [here](https://github.com/deepmind/alphafold) and [here](https://github.com/RosettaCommons/RoseTTAFold), respectively.\n",
    "\n",
    "<br/>\n",
    "<img src=\"./images/image5.jpg\"  width=\"1800\">\n",
    "\n",
    "**Image 5**: RoseTTAFold network architecture and performance. [Source](https://www.science.org/doi/10.1126/science.abj8754).\n",
    "\n",
    "Recently, another model called [OmegaFold](https://doi.org/10.1101/2022.07.21.500999) was announced and its methods were also released publicly [here](https://github.com/HeliXonProtein/OmegaFold). It achieves a similar performance to AlphaFold2 and enables the prediction of orphan proteins or antibodies with noisy multiple sequence alignments (MSA) (will be discussed later).\n",
    "\n",
    "All of these end-to-end methods rely on advancements in deep learning and databases, such as the PDB, to achieve impressive performance. Internally, they use a combination of transformers and physics-aware modules that iteratively refine their predictions of atom locations."
   ]
  },
  {
   "cell_type": "markdown",
   "metadata": {},
   "source": [
    "### OmegaFold\n",
    "\n",
    "In this takltorial, we will focus on OmegaFold, as communicated in the original work by Wu et al. titled \"[High-resolution de novo structure prediction from primary sequence](https://doi.org/10.1101/2022.07.21.500999)\". It is a novel method that accurately predicts protein structures from a single sequence. As we will see, it uses a pre-trained transformer-based protein language model (OmegaPLM) that makes predictions from sequences of amino acids and a geometry-inspired transformer (Geoformer) trained on their respective conformations. Additionally, a structural head is applied for prediction. Therefore, it works well on orphan proteins that have unique functional characteristics and antibodies that have constantly evolving MSAs.\n",
    "\n",
    "To be able to understand the novelty of OmegaFold, we will touch upon its competition. Both, AlphaFold2 and RoseTTAFold, take as input multiple sequences that are aligned to the primary one. By utilizing pairwise variations across residues, these algorithms managed to outperform previous attempts. However, their performance quickly drops in the absence of MSAs. So, the authors of OmegaFold sought to remove that requirement and took an alignment-free approach which scales 10x better (**Fig 1A**).\n",
    "\n",
    "<img src=\"./images/figure1A.png\"  width=\"1800\">\n",
    "\n",
    "**Fig. 1**: An overview. (A) Architecture. (B) Evaluations. (C) Runtime analysis. Figure credit to [the authors of OmegaFold.](https://doi.org/10.1101/2022.07.21.500999)\n",
    "\n",
    "#### Innerworkings and Training\n",
    "\n",
    "OmegaPLM was trained on unaligned protein sequences in a self-supervised manner, to learn powerful residue and residue-residue representations. Those embeddings capture the structural and functional characteristics of the protein sequences. Then, they are fed into the Geoformer, which encodes the geometrical and physical interactions between amino acids. In the end, the structural layer predicts a sequence of 3D coordinates of all the heavy atoms.\n",
    "\n",
    "Three residue-masking strategies were applied to increase OmegaPLM's robustness by training to predict missing residues from what's left of the sequence (**Fig. 2A**). The same hyperparameters used in [ESM-1b](https://github.com/facebookresearch/esm) were used while the attention module was simplified. After pretraining on sequences in UniRef50, their PLM showed improved performance with reduced memory requirements.\n",
    "\n",
    "<img src=\"./images/figure2A.png\"  width=\"1200\">\n",
    "\n",
    "**Fig. 2**: OmegaPLM and geometric smoothing. (A) OmegaPLM pretraining routine. (B) Geofromer at work. (C) Geoformer evaluation. (D) Visualization of contact maps. Figure credit to [the authors of OmegaFold](https://doi.org/10.1101/2022.07.21.500999).\n",
    "\n",
    "The purpose of the 50-layer Geofromer is to improve the embeddings such that they can predict geometrically correct coordinate predictions (**Fig 2B**). Each Geoformer layer encodes information about the residues after enforcing geometric consistency. Those latent representations should satisfy properties of [Euclidean geometry](https://en.wikipedia.org/wiki/Euclidean_geometry), and normally they do not. To this end, the nonlinear attention module was simplified and redesigned to correct the embeddings. As a result, OmegaFold encodes a geometrically correct representation of a protein sequence for it to be further encoded to a 3-dimensional space in the form of 3D coordinates (**Fig. 1A**).\n",
    "\n",
    "<img src=\"./images/figure2B.png\"  width=\"1200\">\n",
    "\n",
    "**Fig. 2**: OmegaPLM and geometric smoothing. (A) OmegaPLM pretraining routine. (B) Geofromer at work. (C) Geoformer evaluation. (D) Visualization of contact maps. Figure credit to [the authors of OmegaFold](https://doi.org/10.1101/2022.07.21.500999).\n",
    "\n",
    "Similar to AlphaFold2, OmegaFold was trained in a multitask manner, including contact, atomic distance, and torsion angle prediction. The final model was trained on about 110000 single-chain sequences from the PDB pre-2021 in addition to all the \"single domains\" from the SCOP version 1.75 database while allowing at most 40% inter-sequence identity. For validation and tuning, newer structures were used making sure to eliminate any source of data leakage.\n",
    "\n",
    "#### Performance evaluation\n",
    "\n",
    "A set of 29 CASP proteins from the free-modeling category and 146 CAMEO proteins from 2022 of varying difficulty levels were used for evaluation. The predictions were compared to SOTAs with MSAs. Remarkably, OmegaFold's alignment-free predictions were on par with the other methods (**Fig. 1B**). As for the CAMEO set, OmegaFold's structures achieved an average local-distance difference test (LDDT) score of 0.82 (LDDT is a metric for structure evaluation). On the CASP dataset, the average TM-score of 0.79 --a common measure for the topological similarity of proteins-- was slightly lower than that of other SOTAs. Single-sequence versions of the aforementioned datasets were tested. In this case, AlphaFold2 and RoseTTAFold's predictions were significantly outperformed by those of OmegaFold (**Fig. 1B**), confirming OmegaFold's edge over the rest.\n",
    "\n",
    "<img src=\"./images/figure1B.png\"  width=\"1800\">\n",
    "\n",
    "**Fig. 1**: An overview. (A) Architecture. (B) Evaluations. (C) Runtime analysis. Figure credit to [the authors of OmegaFold](https://doi.org/10.1101/2022.07.21.500999).\n",
    "\n",
    "#### More on orphan proteins and antibodies\n",
    "\n",
    "Antibodies or antibody loops have highly variable regions causing them to have a constantly evolving (noisy) nature. Thereby, methods like AlphaFold2 are unreliable having underwhelming predicted LDDT (pLDDT) scores (**Fig. 3A**). Orphan proteins are also hard to predict using MSA-based methods due to their unique functional characteristics (**Fig. 3B**).\n",
    "\n",
    "<img src=\"./images/figure3.png\"  width=\"1800\">\n",
    "\n",
    "**Fig. 3**: OmegaPLM performance analysis. (A) OmegaPLM predicting antibodies. (B) Orphan protein performance. Figure credit to [the authors of OmegaFold](https://doi.org/10.1101/2022.07.21.500999).\n",
    "\n",
    "#### Investigating the Geoformer\n",
    "\n",
    "An ablation study was conducted to determine whether Geoformer was improving the OmegaPLM's performance, the contact accuracy and geometric inconsistency were incrementally computed while adding Geoformer layers (**Fig. 2C & D**). The OmegaPLM on its own was somewhat accurate. The first 20 Geoformer layers greatly reduced the geometric violations, while the prediction resolution improved. Eventually, the improvement in accuracy plateaus the more layers were added.\n",
    "\n",
    "<img src=\"./images/figure2CD.png\"  width=\"1200\">\n",
    "\n",
    "**Fig. 2**: OmegaPLM and geometric smoothing. (A) OmegaPLM pretraining routine. (B) Geofromer at work. (C) Geoformer evaluation. (D) Visualization of contact maps. Figure credit to [the authors of OmegaFold](https://doi.org/10.1101/2022.07.21.500999).\n",
    "\n",
    "#### Computational performance\n",
    "\n",
    "To conclude, first, we will touch on efficiency. Due to OmegaFold's alignment-free nature, formidable performance can be achieved with fast runtime (**Fig. 1C**). That is due to the reduced amount of chains to process.\n",
    "\n",
    "<img src=\"./images/figure1C.png\"  width=\"900\">\n",
    "\n",
    "**Fig. 1**: An overview. (A) Architecture. (B) Evaluations. (C) Runtime analysis. Figure credit to [the authors of OmegaFold](https://doi.org/10.1101/2022.07.21.500999)."
   ]
  },
  {
   "cell_type": "markdown",
   "metadata": {},
   "source": [
    "### Alternative Methods\n",
    "\n",
    "#### Quantum Approach\n",
    "\n",
    "An alternative approach to protein folding is to use quantum computing. The objective of protein folding can be defined by finding the [psi and phi angles](https://en.wikipedia.org/wiki/Dihedral_angle#Dihedral_angles_of_biological_molecules) at pivotal atoms within a protein sequence. By representing those key points as [qubits](https://en.wikipedia.org/wiki/Qubit) in a quantum system, it is possible to use [hybrid quantum/classical algorithms](https://en.wikipedia.org/wiki/Quantum_algorithm) to find those angle values. In [Robert *et al.*](https://doi.org/10.1038/s41534-021-00368-4), a resource-efficient quantum approach was proposed to fold a polymer chain of N monomers on a lattice. This method shows promise because with time [fault-tolerant](https://en.wikipedia.org/wiki/Threshold_theorem) quantum computers will become capable of handling larger inputs. When that happens, it has been shown that these computers would out-scale classical computers leading to polynomial or exponential compute time reduction thanks to [quantum superposition](https://en.wikipedia.org/wiki/Quantum_superposition). That being said, this method is currently limited in terms of monomer length due to quantum physical constraints.\n",
    "\n",
    "<br/>\n",
    "<img src=\"./images/image6.png\"  width=\"1800\">\n",
    "\n",
    "**Image 5**: Folding algorithm and process of the quantum approach. [Source](https://www.nature.com/articles/s41534-021-00368-4/figures/2).\n",
    "\n",
    "#### Diffusion-based Models\n",
    "\n",
    "Another novel and interesting approach uses [diffusion networks](https://en.wikipedia.org/wiki/Diffusion_model) to create a generative model for protein design. This model, RoseTTAFold Diffusion ([RF diffusion](https://doi.org/10.1101/2022.12.09.519842)), was created by fine-tuning the RoseTTAFold model on protein structure denoising tasks. It enables us to design various more complicated functional proteins from simple prompts. In protein folding, the question is how amino acids interact with each other when they are in the same string/chain. Whereas, in protein binding assessment/protein design, the question is which amino acids would be most suitable to interact with this known surface. So we have to predict a surface that has a compatible topology and a favorable binding profile to the existing surface. This is the difference between designing proteins with docking/bonding in mind and plain protein folding. Concretely, the difference is the restrictions on amino acid movement that is imposed by being linked through a bond. But the principle, i.e. amino acid interaction, is the same."
   ]
  },
  {
   "cell_type": "markdown",
   "metadata": {},
   "source": [
    "## Practical"
   ]
  },
  {
   "cell_type": "markdown",
   "metadata": {},
   "source": [
    "### Overview\n",
    "\n",
    "In this talktorial, we will be using the OmegaFold model. To do so we will need to:\n",
    "- Set up OmegaFold locally, to do that we just need to follow the instructions [here](https://github.com/HeliXonProtein/OmegaFold).\n",
    "- Process a couple of input sequence to predict their conformations.\n",
    "- Analyze the predicted structures and compare them to their ground truths as well as each other.\n",
    "\n",
    "**Note**: In the `data` folder, a `FASTA` file is available for use. More information about the particular Protein it represents can be found in the accompanying `README.md`.\n",
    "\n",
    "**Note**: In the `data` folder, a `PDB` file of the protein is also available for use.\n",
    "\n",
    "**Note**: In the `output` folder,  a `PDB` file will be generated for each of the sequences in our input file.\n",
    "\n",
    "**Note**: The prediction confidence values are put in the place of `b_factors` (temperature factors) in the resulting `PDB` files."
   ]
  },
  {
   "cell_type": "code",
   "execution_count": null,
   "metadata": {
    "is_executing": true,
    "ExecuteTime": {
     "start_time": "2023-06-30T02:16:39.354746Z"
    }
   },
   "outputs": [
    {
     "name": "stdout",
     "output_type": "stream",
     "text": [
      "\u001B[32m[I 04:16:39.843 NotebookApp]\u001B[m The port 8888 is already in use, trying another port.\r\n",
      "\u001B[32m[I 04:16:39.844 NotebookApp]\u001B[m Serving notebooks from local directory: /Users/introvertuoso/PycharmProjects/CADDSeminar_2023/notebooks/T03_proteinfolding\r\n",
      "\u001B[32m[I 04:16:39.844 NotebookApp]\u001B[m Jupyter Notebook 6.5.2 is running at:\r\n",
      "\u001B[32m[I 04:16:39.844 NotebookApp]\u001B[m http://localhost:8889/?token=0408872eece0a00133f32e24849179dc6c6261ec0fd87704\r\n",
      "\u001B[32m[I 04:16:39.844 NotebookApp]\u001B[m  or http://127.0.0.1:8889/?token=0408872eece0a00133f32e24849179dc6c6261ec0fd87704\r\n",
      "\u001B[32m[I 04:16:39.844 NotebookApp]\u001B[m Use Control-C to stop this server and shut down all kernels (twice to skip confirmation).\r\n",
      "\u001B[35m[C 04:16:39.847 NotebookApp]\u001B[m \r\n",
      "    \r\n",
      "    To access the notebook, open this file in a browser:\r\n",
      "        file:///Users/introvertuoso/Library/Jupyter/runtime/nbserver-6881-open.html\r\n",
      "    Or copy and paste one of these URLs:\r\n",
      "        http://localhost:8889/?token=0408872eece0a00133f32e24849179dc6c6261ec0fd87704\r\n",
      "     or http://127.0.0.1:8889/?token=0408872eece0a00133f32e24849179dc6c6261ec0fd87704\r\n"
     ]
    }
   ],
   "source": [
    "# This will re-direct us to a new jupyter instance with an increased data rate limit allowing protein structure rendering using nglview.\n",
    "!jupyter notebook --NotebookApp.iopub_data_rate_limit=1.0e10"
   ]
  },
  {
   "cell_type": "markdown",
   "metadata": {},
   "source": [
    "### Setup\n",
    "\n",
    "This will download the OmegaFold package source files from GitHub. (~2 MB)"
   ]
  },
  {
   "cell_type": "code",
   "execution_count": 36,
   "metadata": {
    "ExecuteTime": {
     "end_time": "2023-06-30T02:14:32.948564Z",
     "start_time": "2023-06-30T02:14:32.830998Z"
    }
   },
   "outputs": [],
   "source": [
    "import os\n",
    "!pip install git+https://github.com/HeliXonProtein/OmegaFold.git"
   ]
  },
  {
   "cell_type": "markdown",
   "metadata": {},
   "source": [
    "This will clone the OmegaFold GitHub repository in the current directory. Then, it will set up the OmegaFold package."
   ]
  },
  {
   "cell_type": "code",
   "execution_count": 37,
   "metadata": {
    "ExecuteTime": {
     "end_time": "2023-06-30T02:14:32.948879Z",
     "start_time": "2023-06-30T02:14:32.834736Z"
    }
   },
   "outputs": [],
   "source": [
    "!git clone https://github.com/HeliXonProtein/OmegaFold\n",
    "os.chdir('OmegaFold')\n",
    "!python setup.py install\n",
    "os.chdir('..')"
   ]
  },
  {
   "cell_type": "markdown",
   "metadata": {},
   "source": [
    "### Processing the input sequences\n",
    "\n",
    "This will run the model. But first, it will download the weights from AWS. (~3 GB)\n",
    "\n",
    "**Note**: The `--device cuda` argument only works if an NVIDIA GPU is available otherwise `--device cpu` should be used. More information below.\n",
    "\n",
    "**Don't forget to uncomment the option that best suits your hardware. We elaborate below.**\n",
    "\n",
    "In the case of a less capable system we recommend to uncomment the second command in each of the following two cells. This uses fewer cycles (iterations) and the processing device is the CPU (`--device cpu`). We recommend using 1 cycle at first and then incrementally increasing the cycle count till the system takes an unreasonable amount of time to be complete the command.\n",
    "\n",
    "Whereas, if one has a capable system, uncomment the first comment in each of the following two cells. Here we use 20 cycles (iterations) which refines the prediction further. This uses CUDA as the processing device. If the device is capable but a CUDA device (a recent NVIDIA GPU) is not available, use `--device cpu` as in the above case while keeping the cycles to 20 (or any higher number).\n",
    "\n",
    "Generally speaking, OmegaFold is rather performant and efficient compared to other models."
   ]
  },
  {
   "cell_type": "code",
   "execution_count": 38,
   "metadata": {
    "ExecuteTime": {
     "end_time": "2023-06-30T02:14:32.949440Z",
     "start_time": "2023-06-30T02:14:32.838350Z"
    }
   },
   "outputs": [],
   "source": [
    "#!omegafold ./data/rcsb_pdb_6YJ1.fasta ./output --device cuda --num_cycle 20 --model 1\n",
    "#!omegafold ./data/rcsb_pdb_6YJ1.fasta ./output --device cpu --num_cycle 4 --model 1"
   ]
  },
  {
   "cell_type": "code",
   "execution_count": 39,
   "metadata": {
    "ExecuteTime": {
     "end_time": "2023-06-30T02:14:32.949777Z",
     "start_time": "2023-06-30T02:14:32.840927Z"
    }
   },
   "outputs": [],
   "source": [
    "#!omegafold ./data/rcsb_pdb_7FVU.fasta ./output --device cuda --num_cycle 20 --model 1\n",
    "#!omegafold ./data/rcsb_pdb_7FVU.fasta ./output --device cpu --num_cycle 4 --model 1"
   ]
  },
  {
   "cell_type": "markdown",
   "metadata": {},
   "source": [
    "This will show more model parameters than mentioned above. It provides several options for compute, memory and weights. Look into it if you'd like to have more control over the compute time and memory use. Note than these things trade off with the prediction quality."
   ]
  },
  {
   "cell_type": "code",
   "execution_count": 40,
   "metadata": {
    "ExecuteTime": {
     "end_time": "2023-06-30T02:14:33.669281Z",
     "start_time": "2023-06-30T02:14:32.843595Z"
    }
   },
   "outputs": [
    {
     "name": "stdout",
     "output_type": "stream",
     "text": [
      "usage: omegafold [-h] [--num_cycle NUM_CYCLE] [--subbatch_size SUBBATCH_SIZE]\r\n",
      "                 [--device DEVICE] [--weights_file WEIGHTS_FILE]\r\n",
      "                 [--weights WEIGHTS] [--model MODEL]\r\n",
      "                 [--pseudo_msa_mask_rate PSEUDO_MSA_MASK_RATE]\r\n",
      "                 [--num_pseudo_msa NUM_PSEUDO_MSA] [--allow_tf32 ALLOW_TF32]\r\n",
      "                 input_file output_dir\r\n",
      "\r\n",
      "Launch OmegaFold and perform inference on the data. Some examples (both the\r\n",
      "input and output files) are included in the Examples folder, where each folder\r\n",
      "contains the output of each available model from model1 to model3. All of the\r\n",
      "results are obtained by issuing the general command with only model number\r\n",
      "chosen (1-3).\r\n",
      "\r\n",
      "positional arguments:\r\n",
      "  input_file            The input fasta file\r\n",
      "  output_dir            The output directory to write the output pdb files. If\r\n",
      "                        the directory does not exist, we just create it. The\r\n",
      "                        output file name follows its unique identifier in the\r\n",
      "                        rows of the input fasta file\"\r\n",
      "\r\n",
      "optional arguments:\r\n",
      "  -h, --help            show this help message and exit\r\n",
      "  --num_cycle NUM_CYCLE\r\n",
      "                        The number of cycles for optimization, default to 10\r\n",
      "  --subbatch_size SUBBATCH_SIZE\r\n",
      "                        The subbatching number, the smaller, the slower, the\r\n",
      "                        less GRAM requirements. Default is the entire length\r\n",
      "                        of the sequence. This one takes priority over the\r\n",
      "                        automatically determined one for the sequences\r\n",
      "  --device DEVICE       The device on which the model will be running, default\r\n",
      "                        to the accelerator that we can find\r\n",
      "  --weights_file WEIGHTS_FILE\r\n",
      "                        The model cache to run, default\r\n",
      "                        os.path.expanduser(\"~/.cache/omegafold_ckpt/model.pt\")\r\n",
      "  --weights WEIGHTS     The url to the weights of the model\r\n",
      "  --model MODEL         The model number to run, current we support 1 or 2\r\n",
      "  --pseudo_msa_mask_rate PSEUDO_MSA_MASK_RATE\r\n",
      "                        The masking rate for generating pseudo MSAs\r\n",
      "  --num_pseudo_msa NUM_PSEUDO_MSA\r\n",
      "                        The number of pseudo MSAs\r\n",
      "  --allow_tf32 ALLOW_TF32\r\n",
      "                        if allow tf32 for speed if available, default to True\r\n"
     ]
    }
   ],
   "source": [
    "!omegafold --help"
   ]
  },
  {
   "cell_type": "markdown",
   "metadata": {},
   "source": [
    "### Analyzing the output predictions"
   ]
  },
  {
   "cell_type": "markdown",
   "metadata": {},
   "source": [
    "In the next cell we will be defining some functions and classes that will be used later in the talktorial. The purpose as well as a step by step description of how the functions work are commented into the code itself. Note that most of the codes use rudimentary features from the libraries we rely on such as `biotite` and `biopython`. Thus, a lot of the code is copied over from the library docs, as they are examples of how to use said features. Furthermore, some original code was developed to complete the intended functionality for this talktorial."
   ]
  },
  {
   "cell_type": "code",
   "execution_count": 41,
   "metadata": {
    "ExecuteTime": {
     "end_time": "2023-06-30T02:14:33.688165Z",
     "start_time": "2023-06-30T02:14:33.670306Z"
    }
   },
   "outputs": [],
   "source": [
    "# importing the functions and the classes we will be needing\n",
    "from Bio.PDB import *\n",
    "import nglview as nv\n",
    "import numpy as np\n",
    "import biotite.sequence.graphics as graphics\n",
    "import biotite.sequence as seq\n",
    "import biotite\n",
    "from matplotlib.patches import Rectangle\n",
    "import matplotlib.pyplot as plt\n",
    "import biotite.structure.io as strucio\n",
    "import biotite.structure as struc\n",
    "import statistics\n",
    "\n",
    "# As mentioned in the cell above, some functions/classes have been copied from the respective package documentations\n",
    "\n",
    "# Create 'FeaturePlotter' subclasses\n",
    "# for drawing the secondary structure features\n",
    "class HelixPlotter(graphics.FeaturePlotter):\n",
    "\n",
    "    def __init__(self):\n",
    "        pass\n",
    "\n",
    "    # Check whether this class is applicable for drawing a feature\n",
    "    # That is, if the residue belongs to a helix\n",
    "    def matches(self, feature):\n",
    "        if feature.key == \"SecStr\":\n",
    "            if \"sec_str_type\" in feature.qual:\n",
    "                if feature.qual[\"sec_str_type\"] == \"helix\":\n",
    "                    return True\n",
    "        return False\n",
    "\n",
    "    # The drawing function itself\n",
    "    def draw(self, axes, feature, bbox, loc, style_param):\n",
    "        # Approx. 1 turn per 3.6 residues to resemble natural helix\n",
    "        n_turns = np.ceil((loc.last - loc.first + 1) / 3.6)\n",
    "        x_val = np.linspace(0, n_turns * 2*np.pi, 100)\n",
    "        # Curve ranges from 0.3 to 0.7\n",
    "        y_val = (-0.4*np.sin(x_val) + 1) / 2\n",
    "\n",
    "        # Transform values for correct location in feature map\n",
    "        x_val *= bbox.width / (n_turns * 2*np.pi)\n",
    "        x_val += bbox.x0\n",
    "        y_val *= bbox.height\n",
    "        y_val += bbox.y0\n",
    "\n",
    "        # Draw white background to overlay the guiding line\n",
    "        background = Rectangle(\n",
    "            bbox.p0, bbox.width, bbox.height, color=\"white\", linewidth=0\n",
    "        )\n",
    "        axes.add_patch(background)\n",
    "        axes.plot(\n",
    "            x_val, y_val, linewidth=2, color=biotite.colors[\"dimgreen\"]\n",
    "        )\n",
    "\n",
    "\n",
    "# Similar to the classes above\n",
    "class SheetPlotter(graphics.FeaturePlotter):\n",
    "\n",
    "    def __init__(self, head_width=0.8, tail_width=0.5):\n",
    "        self._head_width = head_width\n",
    "        self._tail_width = tail_width\n",
    "\n",
    "    # Check whether this class is applicable for drawing a feature\n",
    "    # That is, if the residue belongs to a sheet\n",
    "    def matches(self, feature):\n",
    "        if feature.key == \"SecStr\":\n",
    "            if \"sec_str_type\" in feature.qual:\n",
    "                if feature.qual[\"sec_str_type\"] == \"sheet\":\n",
    "                    return True\n",
    "        return False\n",
    "\n",
    "    # The drawing function itself\n",
    "    def draw(self, axes, feature, bbox, loc, style_param):\n",
    "        x = bbox.x0\n",
    "        y = bbox.y0 + bbox.height/2\n",
    "        dx = bbox.width\n",
    "        dy = 0\n",
    "\n",
    "        if  loc.defect & seq.Location.Defect.MISS_RIGHT:\n",
    "            # If the feature extends into the previous or next line\n",
    "            # do not draw an arrow head\n",
    "            draw_head = False\n",
    "        else:\n",
    "            draw_head = True\n",
    "\n",
    "        axes.add_patch(biotite.AdaptiveFancyArrow(\n",
    "            x, y, dx, dy,\n",
    "            self._tail_width*bbox.height, self._head_width*bbox.height,\n",
    "            # Create head with 90 degrees tip\n",
    "            # -> head width/length ratio = 1/2\n",
    "            head_ratio=0.5, draw_head=draw_head,\n",
    "            color=biotite.colors[\"orange\"], linewidth=0\n",
    "        ))\n",
    "\n",
    "# Helper function to convert secondary structure array to annotation\n",
    "# and visualize it\n",
    "def visualize_secondary_structure(sse, first_id):\n",
    "\n",
    "    # convert a, b, c annotations to helix, sheet and loop (else)\n",
    "    def _add_sec_str(annotation, first, last, str_type):\n",
    "        if str_type == \"a\":\n",
    "            str_type = \"helix\"\n",
    "        elif str_type == \"b\":\n",
    "            str_type = \"sheet\"\n",
    "        else:\n",
    "            # coil/loop\n",
    "            return\n",
    "        feature = seq.Feature(\n",
    "            \"SecStr\", [seq.Location(first, last)], {\"sec_str_type\" : str_type}\n",
    "        )\n",
    "        annotation.add_feature(feature)\n",
    "\n",
    "    # Find the intervals for each secondary structure element\n",
    "    # and add to annotation\n",
    "    annotation = seq.Annotation()\n",
    "    curr_sse = None\n",
    "    curr_start = None\n",
    "    for i in range(len(sse)):\n",
    "        if curr_start is None:\n",
    "            curr_start = i\n",
    "            curr_sse = sse[i]\n",
    "        else:\n",
    "            if sse[i] != sse[i-1]:\n",
    "                _add_sec_str(\n",
    "                    annotation, curr_start+first_id, i-1+first_id, curr_sse\n",
    "                )\n",
    "                curr_start = i\n",
    "                curr_sse = sse[i]\n",
    "    # Add last secondary structure element to annotation\n",
    "    _add_sec_str(annotation, curr_start+first_id, i-1+first_id, curr_sse)\n",
    "\n",
    "    fig = plt.figure(figsize=(8.0, 3.0))\n",
    "    ax = fig.add_subplot(111)\n",
    "    graphics.plot_feature_map(\n",
    "        ax, annotation, symbols_per_line=150,\n",
    "        loc_range=(first_id, first_id+len(sse)),\n",
    "        show_numbers=True, show_line_position=True,\n",
    "        feature_plotters=[HelixPlotter(), SheetPlotter()]\n",
    "    )\n",
    "    fig.tight_layout()\n",
    "\n",
    "\n",
    "# Helper function to find RMSD values for secondary structures\n",
    "# namely alpha helices, beta sheets and coils/loops\n",
    "def find_secondary_structures_RMSDs(structure_true, structure_pred, sse):\n",
    "    for a in ['a', 'b', 'c']:\n",
    "        true_coords = []\n",
    "        pred_coords = []\n",
    "        cnt = 0\n",
    "        # iterate the residues simultaneously, cnt is used for assertion\n",
    "        for t, p in zip(structure_true['A'].get_residues(), structure_pred['A'].get_residues()):\n",
    "            # boundary check\n",
    "            if cnt >= len(sse):\n",
    "                break\n",
    "            # Extracts the current secondary structure's atomic coordinates from the structure\n",
    "            if sse[cnt] == a:\n",
    "                true_coords.extend([i.coord for i in t.get_atoms()])\n",
    "                pred_coords.extend([i.coord for i in p.get_atoms()])\n",
    "            cnt += 1\n",
    "        # here we correct for when the prediction gets a few atoms short of the target or create a few more\n",
    "        discrepancy = len(true_coords) - len(pred_coords)\n",
    "        # correct for misalignment between true and pred and the other way around but clipping\n",
    "        if discrepancy >= 0:\n",
    "            for i in range(discrepancy):\n",
    "                true_coords.pop()\n",
    "        else:\n",
    "            for i in range(-discrepancy):\n",
    "                pred_coords.pop()\n",
    "        true_coords = np.array(true_coords)\n",
    "        pred_coords = np.array(pred_coords)\n",
    "\n",
    "        # This to calculate the RMSD for the given atoms against their counterparts in the original\n",
    "        diff = true_coords - pred_coords\n",
    "        print(f'{\"helices\" if a == \"a\" else (\"sheets\" if a == \"b\" else \"loops\")} rmsd: {np.sqrt(sum(sum(diff**2))/true_coords.shape[0])}')\n",
    "\n",
    "\n",
    "# A helper function to obtain the atom position prediction median confidence for\n",
    "# secondary structures\n",
    "def find_secondary_structure_median_confidences(structure_pred, sse):\n",
    "    for a in ['a', 'b', 'c']:\n",
    "        factors = []\n",
    "        cnt = 0\n",
    "        for p in structure_pred['A'].get_residues():\n",
    "            # boundary check\n",
    "            if cnt >= len(sse):\n",
    "                break\n",
    "            # Extracts the current secondary structure's atomic coordinates from the structure\n",
    "            if sse[cnt] == a:\n",
    "                factors.extend([i.get_bfactor() for i in p.get_atoms()])\n",
    "            cnt += 1\n",
    "\n",
    "        print(f'average confidence for {\"helices\" if a == \"a\" else (\"sheets\" if a == \"b\" else \"loops\")}: {statistics.median(factors)}')\n",
    "\n",
    "\n",
    "# A helper function to plot a Ramachandran plot given a pdb file\n",
    "def plot_ramachandran_plot(path, name):\n",
    "    # Code source: Patrick Kunzmann\n",
    "    # License: BSD 3 clause\n",
    "\n",
    "    atom_array = strucio.load_structure(path)\n",
    "    # Calculate backbone dihedral angles\n",
    "    # from one of the two identical chains in the asymmetric unit\n",
    "    phi, psi, omega = struc.dihedral_backbone(\n",
    "        atom_array[atom_array.chain_id == \"A\"]\n",
    "    )\n",
    "    # Conversion from radians into degree\n",
    "    phi *= 180/np.pi\n",
    "    psi *= 180/np.pi\n",
    "    # Remove invalid values (NaN) at first and last position\n",
    "    phi= phi[1:-1]\n",
    "    psi= psi[1:-1]\n",
    "\n",
    "    # Plot density\n",
    "    figure = plt.figure()\n",
    "    ax = figure.add_subplot(111)\n",
    "    h, xed, yed, image = ax.hist2d(phi, psi, bins=(200, 200),\n",
    "                    cmap=\"RdYlGn_r\", cmin=1)\n",
    "    cbar = figure.colorbar(image, orientation=\"vertical\")\n",
    "    cbar.set_label(\"Count\")\n",
    "    ax.set_aspect(\"equal\")\n",
    "    ax.set_xlim(-180, 175)\n",
    "    ax.set_ylim(-180, 175)\n",
    "    ax.set_xlabel(r\"$\\phi$\")\n",
    "    ax.set_ylabel(r\"$\\psi$\")\n",
    "    ax.set_title(f\"{name} Ramachandran plot\")\n",
    "    figure.tight_layout()\n",
    "    plt.show()"
   ]
  },
  {
   "cell_type": "markdown",
   "metadata": {},
   "source": [
    "#### 6YJ1"
   ]
  },
  {
   "cell_type": "markdown",
   "metadata": {},
   "source": [
    "This will parse the ground truth and the predicted crystalline structures of the first chain (chain 'A') in the first model (model 0) of this structure.\n",
    "\n",
    "**Note**: For this structure there is in fact two chains, A and B. We're only concerned with chain 'A'."
   ]
  },
  {
   "cell_type": "code",
   "execution_count": 42,
   "metadata": {
    "ExecuteTime": {
     "end_time": "2023-06-30T02:14:33.723381Z",
     "start_time": "2023-06-30T02:14:33.686558Z"
    }
   },
   "outputs": [
    {
     "name": "stderr",
     "output_type": "stream",
     "text": [
      "/Users/introvertuoso/python3.10_venv/lib/python3.9/site-packages/Bio/PDB/StructureBuilder.py:89: PDBConstructionWarning: WARNING: Chain A is discontinuous at line 3168.\n",
      "  warnings.warn(\n",
      "/Users/introvertuoso/python3.10_venv/lib/python3.9/site-packages/Bio/PDB/StructureBuilder.py:89: PDBConstructionWarning: WARNING: Chain B is discontinuous at line 3169.\n",
      "  warnings.warn(\n",
      "/Users/introvertuoso/python3.10_venv/lib/python3.9/site-packages/Bio/PDB/StructureBuilder.py:89: PDBConstructionWarning: WARNING: Chain A is discontinuous at line 3170.\n",
      "  warnings.warn(\n",
      "/Users/introvertuoso/python3.10_venv/lib/python3.9/site-packages/Bio/PDB/StructureBuilder.py:89: PDBConstructionWarning: WARNING: Chain B is discontinuous at line 3228.\n",
      "  warnings.warn(\n"
     ]
    }
   ],
   "source": [
    "structure_true_6yj1 = PDBParser().get_structure(\"true\", \"data/6yj1.pdb\")[0] # parse the ground truth structure\n",
    "structure_pred_6yj1 = PDBParser().get_structure(\"pred\", \"output/0th chain.pdb\")[0] # parse the predicted structure"
   ]
  },
  {
   "cell_type": "markdown",
   "source": [
    "Here we get a warning from the `Biopython` package, saying that our structure (protein 1) is either corrupt or irregular. As a result, we observe that it is discontinuous at a certain position. This will be problematic, and potentially affect the quality of the prediction later on in the talktorial. However, our other protein is normal. We decided to keep the first one to show that it may be the case from time to time that not all proteins are regular."
   ],
   "metadata": {
    "collapsed": false
   }
  },
  {
   "cell_type": "markdown",
   "metadata": {},
   "source": [
    "This outputs the RMS score after applying \"Protein structure alignment by incremental combinatorial extension (CE) of the optimal path\"."
   ]
  },
  {
   "cell_type": "code",
   "execution_count": 43,
   "metadata": {
    "ExecuteTime": {
     "end_time": "2023-06-30T02:14:33.809552Z",
     "start_time": "2023-06-30T02:14:33.752499Z"
    }
   },
   "outputs": [
    {
     "data": {
      "text/plain": "5.652865371217041"
     },
     "execution_count": 43,
     "metadata": {},
     "output_type": "execute_result"
    }
   ],
   "source": [
    "cea = cealign.CEAligner() # set up the aligner\n",
    "cea.set_reference(structure_true_6yj1) # set the ground truth\n",
    "cea.align(structure_pred_6yj1, transform=True) # align the prediction to the reference\n",
    "cea.rms # output the rms score after alignment"
   ]
  },
  {
   "cell_type": "markdown",
   "metadata": {},
   "source": [
    "Remark on the RMS"
   ]
  },
  {
   "cell_type": "markdown",
   "metadata": {},
   "source": [
    "This will render the two structures together after CE alignment."
   ]
  },
  {
   "cell_type": "code",
   "execution_count": 44,
   "metadata": {
    "scrolled": true,
    "ExecuteTime": {
     "end_time": "2023-06-30T02:14:33.883793Z",
     "start_time": "2023-06-30T02:14:33.815909Z"
    }
   },
   "outputs": [
    {
     "data": {
      "text/plain": "NGLWidget()",
      "application/vnd.jupyter.widget-view+json": {
       "version_major": 2,
       "version_minor": 0,
       "model_id": "4ab44c52e61a48e5bb57cd49c042485e"
      }
     },
     "metadata": {},
     "output_type": "display_data"
    }
   ],
   "source": [
    "view_aligned = nv.show_biopython(structure_true_6yj1[\"A\"]) # render the ground truth\n",
    "view_aligned.update_cartoon(color='blue') # color the true structure blue\n",
    "view_aligned.add_structure(nv.BiopythonStructure(structure_pred_6yj1[\"A\"])) # overlay the prediction\n",
    "view_aligned.update_cartoon(color='orange', component=1) # color the prediction orange\n",
    "view_aligned # display the render (this requires the notebook to be in high data rate mode)"
   ]
  },
  {
   "cell_type": "markdown",
   "metadata": {},
   "source": [
    "Remark on alignment"
   ]
  },
  {
   "cell_type": "code",
   "execution_count": 45,
   "metadata": {
    "ExecuteTime": {
     "end_time": "2023-06-30T02:14:34.048699Z",
     "start_time": "2023-06-30T02:14:33.898945Z"
    }
   },
   "outputs": [
    {
     "data": {
      "text/plain": "<Figure size 800x300 with 1 Axes>",
      "image/png": "[encoded data removed]"
     },
     "metadata": {},
     "output_type": "display_data"
    }
   ],
   "source": [
    "array = strucio.load_structure(\"data/6yj1.pdb\") # loading the true structure to biotite\n",
    "sse_6yj1 = struc.annotate_sse(array, chain_id=\"A\") # annotate each residue according to what secondary structure it belongs to\n",
    "visualize_secondary_structure(sse_6yj1, array.res_id[0]) # use the visualization function defined above\n",
    "plt.show() # render the result"
   ]
  },
  {
   "cell_type": "markdown",
   "metadata": {},
   "source": [
    "Remark on the visualization"
   ]
  },
  {
   "cell_type": "markdown",
   "metadata": {},
   "source": [
    "#### 7FVU"
   ]
  },
  {
   "cell_type": "markdown",
   "metadata": {},
   "source": [
    "Here we do the same as above for another structure."
   ]
  },
  {
   "cell_type": "code",
   "execution_count": 46,
   "metadata": {
    "ExecuteTime": {
     "end_time": "2023-06-30T02:14:34.087826Z",
     "start_time": "2023-06-30T02:14:34.048960Z"
    }
   },
   "outputs": [],
   "source": [
    "structure_true_7fvu = PDBParser().get_structure(\"true\", \"data/7fvu.pdb\")[0]\n",
    "structure_pred_7fvu = PDBParser().get_structure(\"pred\", \"output/7FVU_1|Chain A|Fatty acid-binding protein, adipocyte|Homo sapiens (9606).pdb\")[0]"
   ]
  },
  {
   "cell_type": "code",
   "execution_count": 47,
   "metadata": {
    "ExecuteTime": {
     "end_time": "2023-06-30T02:14:34.098391Z",
     "start_time": "2023-06-30T02:14:34.088867Z"
    }
   },
   "outputs": [
    {
     "data": {
      "text/plain": "0.4792816996232876"
     },
     "execution_count": 47,
     "metadata": {},
     "output_type": "execute_result"
    }
   ],
   "source": [
    "cea = cealign.CEAligner()\n",
    "cea.set_reference(structure_true_7fvu)\n",
    "cea.align(structure_pred_7fvu, transform=True)\n",
    "cea.rms"
   ]
  },
  {
   "cell_type": "markdown",
   "metadata": {},
   "source": [
    "Remark on RMS"
   ]
  },
  {
   "cell_type": "code",
   "execution_count": 48,
   "metadata": {
    "scrolled": true,
    "ExecuteTime": {
     "end_time": "2023-06-30T02:14:34.207126Z",
     "start_time": "2023-06-30T02:14:34.106858Z"
    }
   },
   "outputs": [
    {
     "data": {
      "text/plain": "NGLWidget()",
      "application/vnd.jupyter.widget-view+json": {
       "version_major": 2,
       "version_minor": 0,
       "model_id": "dfdff0b0c0cc4177a360791897c29509"
      }
     },
     "metadata": {},
     "output_type": "display_data"
    }
   ],
   "source": [
    "view_aligned = nv.show_biopython(structure_true_7fvu[\"A\"])\n",
    "view_aligned.update_cartoon(color='blue')\n",
    "view_aligned.add_structure(nv.BiopythonStructure(structure_pred_7fvu[\"A\"]))\n",
    "view_aligned.update_cartoon(color='orange', component=1)\n",
    "view_aligned"
   ]
  },
  {
   "cell_type": "markdown",
   "metadata": {},
   "source": [
    "Remark on alignment"
   ]
  },
  {
   "cell_type": "code",
   "execution_count": 49,
   "metadata": {
    "ExecuteTime": {
     "end_time": "2023-06-30T02:14:34.304263Z",
     "start_time": "2023-06-30T02:14:34.213527Z"
    }
   },
   "outputs": [
    {
     "data": {
      "text/plain": "<Figure size 800x300 with 1 Axes>",
      "image/png": "[encoded data removed]"
     },
     "metadata": {},
     "output_type": "display_data"
    }
   ],
   "source": [
    "array = strucio.load_structure(\"data/7fvu.pdb\")\n",
    "sse_7fvu = struc.annotate_sse(array, chain_id=\"A\")\n",
    "visualize_secondary_structure(sse_7fvu, array.res_id[0])\n",
    "plt.show()"
   ]
  },
  {
   "cell_type": "markdown",
   "metadata": {},
   "source": [
    "Remark on vis"
   ]
  },
  {
   "cell_type": "markdown",
   "metadata": {},
   "source": [
    "### Analyzing the secondary structures"
   ]
  },
  {
   "cell_type": "markdown",
   "metadata": {},
   "source": [
    "#### 6YJ1"
   ]
  },
  {
   "cell_type": "code",
   "execution_count": 50,
   "metadata": {
    "ExecuteTime": {
     "end_time": "2023-06-30T02:14:34.578870Z",
     "start_time": "2023-06-30T02:14:34.296826Z"
    }
   },
   "outputs": [
    {
     "name": "stdout",
     "output_type": "stream",
     "text": [
      "helices rmsd: 26.282669013290235\n",
      "sheets rmsd: 17.84655181498534\n",
      "loops rmsd: 20.883112010463293\n",
      "average confidence for helices: 37.42\n",
      "average confidence for sheets: 91.74\n",
      "average confidence for loops: 92.92\n"
     ]
    },
    {
     "data": {
      "text/plain": "<Figure size 640x480 with 2 Axes>",
      "image/png": "[encoded data removed]"
     },
     "metadata": {},
     "output_type": "display_data"
    },
    {
     "data": {
      "text/plain": "<Figure size 640x480 with 2 Axes>",
      "image/png": "[encoded data removed]"
     },
     "metadata": {},
     "output_type": "display_data"
    }
   ],
   "source": [
    "find_secondary_structures_RMSDs(structure_true_6yj1, structure_pred_6yj1, sse_6yj1)\n",
    "find_secondary_structure_median_confidences(structure_pred_6yj1, sse_6yj1)\n",
    "plot_ramachandran_plot(\"data/6yj1.pdb\", \"6yj1 true\")\n",
    "plot_ramachandran_plot(\"output/0th chain.pdb\", \"6yj1 pred\")"
   ]
  },
  {
   "cell_type": "markdown",
   "metadata": {},
   "source": [
    "#### 7FVU"
   ]
  },
  {
   "cell_type": "code",
   "execution_count": 51,
   "metadata": {
    "ExecuteTime": {
     "end_time": "2023-06-30T02:14:34.864621Z",
     "start_time": "2023-06-30T02:14:34.578706Z"
    }
   },
   "outputs": [
    {
     "name": "stdout",
     "output_type": "stream",
     "text": [
      "helices rmsd: 1.2065100088766818\n",
      "sheets rmsd: 0.9634398871842591\n",
      "loops rmsd: 1.281280179743683\n",
      "average confidence for helices: 96.07\n",
      "average confidence for sheets: 97.87\n",
      "average confidence for loops: 95.04\n"
     ]
    },
    {
     "data": {
      "text/plain": "<Figure size 640x480 with 2 Axes>",
      "image/png": "[encoded data removed]"
     },
     "metadata": {},
     "output_type": "display_data"
    },
    {
     "data": {
      "text/plain": "<Figure size 640x480 with 2 Axes>",
      "image/png": "[encoded data removed]"
     },
     "metadata": {},
     "output_type": "display_data"
    }
   ],
   "source": [
    "find_secondary_structures_RMSDs(structure_true_7fvu, structure_pred_7fvu, sse_7fvu)\n",
    "find_secondary_structure_median_confidences(structure_pred_7fvu, sse_7fvu)\n",
    "plot_ramachandran_plot(\"data/7fvu.pdb\", \"7fvu true\")\n",
    "plot_ramachandran_plot(\"output/7FVU_1|Chain A|Fatty acid-binding protein, adipocyte|Homo sapiens (9606).pdb\", \"7fvu pred\")"
   ]
  },
  {
   "cell_type": "markdown",
   "metadata": {},
   "source": [
    "By observing the RMSD values per secondary structure for the second protein, we find that loops are associated with the highest RMSD value. This is plausible since loops are flexible and hence harder to predict. Contrastingly, helices and sheets are more predictable since they're less flexible.\n",
    "\n",
    "Looking at the RMSD values for the first protein, we can tell that something's off, what we get is counterintuitive. This can be potentially explained by the fact that the first protein is discontinuous and is missing some residues. This may have caused this drastic increase in RMSD for helices (higher value than loops). Surely enough, the second highest RMSD was for loops followed by sheets. It is important to remember that the overall prediction for the first protein was lacking (as we can see by the overall RMSD for all residues).\n",
    "\n",
    "As for the median confidence values, they are in line with what we got for the RMSD values per secondary structure. With the lowest median confidence value being associated with the helices in protein one. As for the second protein, the model was the least confident predicting loops compared to helices and sheets. Confirming the intuition from before.\n",
    "\n",
    "*One thing to note about the confidence values, we can see in the code that they are being extracted from each atom's `b_factor`. Why is that? It is a convention used by OmegaFold, where after prediction the atom-level confidences are stored in the resulting `PDB` file in the `b_factor` column.*"
   ]
  },
  {
   "cell_type": "markdown",
   "metadata": {},
   "source": [
    "With **Plot 1.** in mind, we point out several things:\n",
    "- In the first protein (6yj1), the plot for the prediction doesn't align very well with the plot for the ground truth which is to be expected. This is contrary to what we for the second protein (7fvu). In this case, the plots align more nicely.\n",
    "- We see some outliers, in the white region, for both proteins. This can be explained by the possibility of those atoms pertaining to Glycine. Due to the nature of Glycine it can be present in all four quadrants.\n",
    "- The second protein has relatively much less alpha helices compared to the first protein despite that it has fewer residues.\n",
    "\n",
    "<br/>\n",
    "<img src=\"./images/rama.gif\"  width=\"600\">\n",
    "\n",
    "**Plot 1**: Shows viable regions in the Ramachandran plot. The white regions on the other hand correspond to disallowed conformations. Disallowed conformations are those conformations where atoms come closer than the sum of their van der Waals radi. Count is the number of occurrences for the corresponding phi and psi angles. A Ramachandran plot shows rotations within the protein represented by the torsion angles (phi and psi). [Source](https://www.cryst.bbk.ac.uk/PPS95/course/3_geometry/rama.html)."
   ]
  },
  {
   "cell_type": "markdown",
   "source": [
    "### Summary"
   ],
   "metadata": {
    "collapsed": false
   }
  },
  {
   "cell_type": "markdown",
   "metadata": {},
   "source": [
    "In addition to the first protein being discontinuous, it was also published in the PDB at a date that may or may not mean it was used for the training of OmegaFold. This is another take away to keep in mind. That being said, the second protein was specifically chosen to be recent (published after OmegaFold itself). This avoids the potential of leakage. However, OmegaFold could have likely been trained on proteins that share segments with our second protein.\n",
    "\n",
    "All of the above being said, we will move to discussing the predictions. The prediction of the second protein was a lot better than the first, this can be attributed to the discontinuous nature of the first. It is possible, however, that the model simply was unable to make a prediction of higher quality.\n",
    "\n",
    "The RMSD values after aligning each of the protein predictions to their ground truths tell the same story. The first protein obtained an RMSD score (over all of its residues) of 5.65 Angstroms. That is not very good as we've already demonstrated. On the other hand, the second protein had an RMSD value of 0.47 Angstroms.\n",
    "$$\n",
    "    RMSD = \\sqrt{\\frac{1}{N}\\sum^N_{i=1}\\delta^2_i\n",
    "$$\n",
    "\n",
    "An RMSD value is a measure of the mean distance between residues between two aligned proteins (superimposed proteins). Practically, it is used to give a holistic view of the quality of the prediction. As we have demonstrated, it is often useful to disect this measure to see where those deviations have occurring, that is, at the secondary structure level rather than the global level."
   ]
  },
  {
   "cell_type": "markdown",
   "metadata": {},
   "source": [
    "## Discussion\n",
    "\n",
    "Using any of the structure prediction SOTA methods, it is viable to adequately predict a protein's fold from a sequence of amino acids. However, the story does not end here. OmegaFold fills a pivotal gap, as it is able to make predictions from sequences for which MSAs are not readily available. Future advancements in this field should facilitate a plethora of applications, including multi-state conformational sampling, variant effect prediction, intra-protein interactions, and protein docking. As important as it is to predict the fold, it is equally important to find protein conformations that bind to a binding partner of interest or the other way around. That is what dictates protein function. That way, we can design effective drugs for virtually any disease or to solve dire challenges with bioengineering."
   ]
  },
  {
   "cell_type": "markdown",
   "metadata": {},
   "source": [
    "## Quiz\n",
    "\n",
    "- Investigate the trade-off of computation time and average prediction quality, by changing the number of cycles. How bad was the prediction?\n",
    "- Trade computation time for memory consumption, by changing subbatch size. How drastic are the reductions?\n",
    "- Look into using a different alignment algorithm (other than CE) and observe the RMS estimate. Does it differ?\n",
    "- Search the protein data bank (PDB) for another protein and attempt to fold it. Does the model perform as well, better, or worse than expected? Compare this to the example in Practical. More here: [PDB](https://www.rcsb.org/)\n",
    "- Another similar task is to look up another protein from the ones published for CASP14. Predict its structure and compare the accuracy to that of AlphaFold2. More here: [CASP14](https://predictioncenter.org/casp14/)\n",
    "- If you're up for a challenge, in a separate notebook, use AlphaFold2 and OmegaFold to predict the same protein and compare. More here: [AlphaFold2's GitHub page](https://github.com/deepmind/alphafold) and [RoseTTAFold's GitHub page](https://github.com/RosettaCommons/RoseTTAFold)\n",
    "- Some more practice, also something to help you understand how far we've come, but is also a challenge. Implement an older method, perhaps one that uses a CNN or a physics-based one to predict a protein structure. More here: [DeepCov](https://github.com/psipred/DeepCov)"
   ]
  },
  {
   "cell_type": "markdown",
   "metadata": {},
   "source": []
  }
 ],
 "metadata": {
  "kernelspec": {
   "display_name": "Python 3 (ipykernel)",
   "language": "python",
   "name": "python3"
  },
  "language_info": {
   "codemirror_mode": {
    "name": "ipython",
    "version": 3
   },
   "file_extension": ".py",
   "mimetype": "text/x-python",
   "name": "python",
   "nbconvert_exporter": "python",
   "pygments_lexer": "ipython3",
   "version": "3.9.6"
  }
 },
 "nbformat": 4,
 "nbformat_minor": 1
}
