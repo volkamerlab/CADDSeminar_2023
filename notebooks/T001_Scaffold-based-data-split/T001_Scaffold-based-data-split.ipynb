{
 "cells": [
  {
   "cell_type": "markdown",
   "metadata": {},
   "source": [
    "<div class=\"alert alert-block alert-info\">\n",
    "\n",
    "<b>Thank you for contributing to TeachOpenCADD!</b>\n",
    "\n",
    "</div>"
   ]
  },
  {
   "cell_type": "markdown",
   "metadata": {},
   "source": [
    "<div class=\"alert alert-block alert-info\">\n",
    "\n",
    "<b>Set up your PR</b>: Please check out our <a href=\"https://github.com/volkamerlab/teachopencadd/issues/41\">issue</a> on how to set up a PR for new talktorials, including standard checks and TODOs.\n",
    "\n",
    "</div>"
   ]
  },
  {
   "cell_type": "markdown",
   "metadata": {},
   "source": [
    "# T001 · Scaffold-Based data split\n",
    "Authors:\n",
    "\n",
    "- Vahid Atabaigielmi, CADD seminar 2023, Volkamer lab, Center for Bioinformatics, Saarland University\n",
    "- First and last name, year(s) of contribution, lab, institution"
   ]
  },
  {
   "cell_type": "markdown",
   "metadata": {},
   "source": [
    "*The examples used in this talktorial template are taken from [__Talktorial T001__](https://github.com/volkamerlab/teachopencadd/blob/master/teachopencadd/talktorials/T001_query_chembl/talktorial.ipynb) and [__Talktorial T002__](https://github.com/volkamerlab/teachopencadd/blob/master/teachopencadd/talktorials/T002_compound_adme/talktorial.ipynb).*"
   ]
  },
  {
   "cell_type": "markdown",
   "metadata": {},
   "source": [
    "<div class=\"alert alert-block alert-info\">\n",
    "\n",
    "<b>Cross-referencing talktorials</b>: If you want to cross-reference to existing talktorials in your notebook, please use the following formatting: <b>Talktorial T000</b>.\n",
    "\n",
    "</div>"
   ]
  },
  {
   "cell_type": "markdown",
   "metadata": {},
   "source": [
    "## Aim of this talktorial\n",
    "\n",
    "The aim of this talktorial is to to experiment with different scaffold_based splitting strategies and evaluate the performance of the GCNN model on  test sets to determine the most appropriate splitting approach."
   ]
  },
  {
   "cell_type": "markdown",
   "metadata": {},
   "source": [
    "### Contents in *Theory*\n",
    "\n",
    "_Add Table of Contents (TOC) for Theory section._\n",
    "\n",
    "* ChEMBL database\n",
    "* Data spliting methods\n",
    "> * Random based spliting\n",
    "> * Murcko Scaffold based spliting\n",
    "> * Scaffold_Cluster based splitting\n",
    "* Overview of Tanimoto Similarity\n",
    "\n"
   ]
  },
  {
   "cell_type": "markdown",
   "metadata": {},
   "source": [
    "<div class=\"alert alert-block alert-info\">\n",
    "\n",
    "<b>Sync TOC with section titles</b>: These points should refer to the headlines of your <i>Theory</i> section.\n",
    "\n",
    "</div>"
   ]
  },
  {
   "cell_type": "markdown",
   "metadata": {},
   "source": [
    "### Contents in *Practical*\n",
    "\n",
    "_Add Table of Contents (TOC) for Practical section._\n",
    "\n",
    "* Connect to ChEMBL database\n",
    "* Load and the Data\n",
    "* Convert the canonical smiles to RDKit molecules\n",
    "* Tanimoto similarity function\n",
    "* Perform Murcko scaffold based spliting\n",
    "* Perform the random split\n",
    "* perform Scaffold_Cluster based splitting\n",
    "* Calculates the Tanimoto similarity between training and test sets\n",
    "* Plot trainng and test sets"
   ]
  },
  {
   "cell_type": "markdown",
   "metadata": {},
   "source": [
    "<div class=\"alert alert-block alert-info\">\n",
    "\n",
    "<b>Sync TOC with section titles</b>: These points should refer to the headlines of your <i>Practical</i> section.\n",
    "\n",
    "</div>"
   ]
  },
  {
   "cell_type": "markdown",
   "metadata": {},
   "source": [
    "### References\n",
    "\n",
    "* Paper \n",
    "* Tutorial links\n",
    "* Other useful resources\n",
    "\n",
    "*We suggest the following citation style:*\n",
    "* Keyword describing resource: <i>Journal</i> (year), <b>volume</b>, pages (link to resource) \n",
    "\n",
    "*Example:*\n",
    "* ChEMBL web services: [<i>Nucleic Acids Res.</i> (2015), <b>43</b>, 612-620](https://academic.oup.com/nar/article/43/W1/W612/2467881) "
   ]
  },
  {
   "cell_type": "markdown",
   "metadata": {},
   "source": [
    "## Theory"
   ]
  },
  {
   "cell_type": "markdown",
   "metadata": {},
   "source": [
    "### Overview of Tanimoto Similarity\n",
    "The Tanimoto algorithm states that A and B are sets of fingerprint “bits” within the fingerprints of molecule A and molecule B. AB is defined as the set of common bits of fingerprints of both molecule A and B. The resulting Tanimoto coefficient (or T(A,B)) ranges from 0, when the fingerprints have no bits in common, to 1, when the fingerprints are identical. Thus,\n",
    "\n",
    "T(A,B) = (A ∩ B)/(A + B - A ∩ B)\n",
    "\n",
    "The chemical similarity problem then becomes, Given molecule A, find all formulas that have a Tanimoto coefficient greater than a given threshold. The greater the value of a set threshold, the more similar the molecules are."
   ]
  },
  {
   "cell_type": "markdown",
   "metadata": {},
   "source": [
    "<div class=\"alert alert-block alert-info\">\n",
    "\n",
    "<b>Sync section titles with TOC</b>: Please make sure that all section titles in the <i>Theory</i> section are synced with the bullet point list provided in the <i>Aim of this talktorial</i> > <i>Contents in Theory</i> section.\n",
    "\n",
    "</div>\n"
   ]
  },
  {
   "cell_type": "markdown",
   "metadata": {},
   "source": [
    "<div class=\"alert alert-block alert-info\">\n",
    "    \n",
    "<b>Beware of section levels</b>: Please check if you are using the correct subsection levels. The section <i>Theory</i> is written in Markdown as <code>## Theory</code>, so every subsection within <i>Theory</i> is <code>###</code> or lower.\n",
    "\n",
    "</div>"
   ]
  },
  {
   "cell_type": "markdown",
   "metadata": {},
   "source": [
    "### ChEMBL database"
   ]
  },
  {
   "cell_type": "markdown",
   "metadata": {},
   "source": [
    "Lorem ipsum dolor sit amet, consetetur sadipscing elitr, sed diam nonumy eirmod tempor invidunt ut labore et dolore magna aliquyam erat, sed diam voluptua. At vero eos et accusam et justo duo dolores et ea rebum. Stet clita kasd gubergren, no sea takimata sanctus est Lorem ipsum dolor sit amet. Lorem ipsum dolor sit amet, consetetur sadipscing elitr, sed diam nonumy eirmod tempor invidunt ut labore et dolore magna aliquyam erat, sed diam voluptua. At vero eos et accusam et justo duo dolores et ea rebum. Stet clita kasd gubergren, no sea takimata sanctus est Lorem ipsum dolor sit amet."
   ]
  },
  {
   "cell_type": "markdown",
   "metadata": {},
   "source": [
    "![ChEMBL web service schema](./images/example_plot.png)\n",
    "\n",
    "*Figure 1:* \n",
    "Describe figure and add reference.\n",
    "Figure and description taken from: [<i>Nucleic Acids Res.</i> (2015), <b>43</b>, 612-620](https://academic.oup.com/nar/article/43/W1/W612/2467881)."
   ]
  },
  {
   "cell_type": "markdown",
   "metadata": {},
   "source": [
    "<div class=\"alert alert-block alert-info\">\n",
    "    \n",
    "<b>Figures</b>: Place images in the <code>images/</code> folder and include them using Markdown <code>![Figure title](images/some_figure.jpg)</code>. Add a figure caption in the format shown in the example.\n",
    "\n",
    "</div>"
   ]
  },
  {
   "cell_type": "markdown",
   "metadata": {},
   "source": [
    "<div class=\"alert alert-block alert-info\">\n",
    "    \n",
    "<b>Formulas</b>: Please use LaTeX to format formulas.\n",
    "</div>"
   ]
  },
  {
   "cell_type": "markdown",
   "metadata": {},
   "source": [
    "If you place links, please link descriptive words.\n",
    "\n",
    "> __Yes__: [ChEMBL](https://www.ebi.ac.uk/chembl/) is a manually curated database of bioactive molecules\n",
    "\n",
    "> __No__: ChEMBL ([here](https://www.ebi.ac.uk/chembl/)) is a manually curated database of bioactive molecules"
   ]
  },
  {
   "cell_type": "markdown",
   "metadata": {},
   "source": [
    "<div class=\"alert alert-block alert-info\">\n",
    "    \n",
    "<b>Links</b>: If you place links, please link descriptive words.\n",
    "\n",
    "</div>"
   ]
  },
  {
   "cell_type": "markdown",
   "metadata": {},
   "source": [
    "## Practical"
   ]
  },
  {
   "cell_type": "markdown",
   "metadata": {},
   "source": [
    "### Import all the necessary libraries"
   ]
  },
  {
   "cell_type": "code",
   "execution_count": 1,
   "metadata": {},
   "outputs": [],
   "source": [
    "import math\n",
    "import numpy as np\n",
    "import pandas as pd\n",
    "from pathlib import Path\n",
    "import matplotlib.pyplot as plt\n",
    "from collections import Counter\n",
    "from matplotlib.lines import Line2D\n",
    "import matplotlib.patches as mpatches\n",
    "from sklearn.model_selection import train_test_split\n",
    "from chembl_webresource_client.new_client import new_client\n",
    "# Rdkit\n",
    "from rdkit import Chem\n",
    "from rdkit import DataStructs\n",
    "from rdkit.ML.Cluster import Butina\n",
    "from rdkit.Chem.Scaffolds import MurckoScaffold\n",
    "from rdkit.DataStructs import FingerprintSimilarity\n",
    "from rdkit.Chem import Descriptors, Draw, PandasTools, MolFromSmiles, MolToSmiles\n",
    "# DataSAIL\n",
    "import datasail.reader.read_molecules\n",
    "from datasail.reader.utils import DataSet\n",
    "from datasail.cluster.ecfp import run_ecfp\n",
    "from datasail.reader.utils import read_csv, DataSet, read_data"
   ]
  },
  {
   "cell_type": "code",
   "execution_count": 2,
   "metadata": {},
   "outputs": [],
   "source": [
    "# Set path to this notebook\n",
    "HERE = Path(_dh[-1])\n",
    "DATA = HERE / \"output2500.tsv\""
   ]
  },
  {
   "cell_type": "markdown",
   "metadata": {},
   "source": [
    "### Connect to ChEMBL database"
   ]
  },
  {
   "cell_type": "code",
   "execution_count": null,
   "metadata": {},
   "outputs": [],
   "source": [
    "targets_api = new_client.target\n",
    "uniprot_id = \"P00533\"\n",
    "targets = targets_api.get(target_components__accession=uniprot_id).only(\"target_chembl_id\", \"organism\", \"pref_name\", \"target_type\")\n",
    "targets = pd.DataFrame.from_records(targets)\n",
    "target = targets.iloc[0]\n",
    "chembl_id = target.target_chembl_id\n",
    "required_features = ['molecule_chembl_id','canonical_smiles', 'standard_value']\n",
    "res = new_client.activity.filter(target_chembl_id=chembl_id,standard_type=\"IC50\").only(*required_features)[:3000]\n",
    "# Create a DataFrame from the results\n",
    "data = [\n",
    "    [\n",
    "        item.get('molecule_chembl_id'),\n",
    "        item.get('canonical_smiles'),\n",
    "        item.get('standard_value'),\n",
    "    ]\n",
    "    for item in res\n",
    "]\n",
    "df = pd.DataFrame(data, columns=['molecule_chembl_id', 'canonical_smiles','IC50'])\n",
    "print(df)\n",
    "df.to_csv('output3000.tsv', sep='\\t', index=False)\n",
    "# Print the DataFrame\n",
    "print(df.head())"
   ]
  },
  {
   "cell_type": "markdown",
   "metadata": {},
   "source": [
    " ### Loud the Data"
   ]
  },
  {
   "cell_type": "code",
   "execution_count": null,
   "metadata": {},
   "outputs": [],
   "source": [
    "data = pd.read_csv('output2500.tsv', sep='\\t')\n",
    "data['IC50'].replace('', np.nan, inplace=True)\n",
    "data.dropna(subset=['IC50'], inplace=True)\n",
    "data['IC50'] = data['IC50'].apply(lambda x: - math.log(x/1000000))\n",
    "data = data.rename(columns={'IC50': 'pIC50'})"
   ]
  },
  {
   "cell_type": "markdown",
   "metadata": {},
   "source": [
    "### Convert the canonical smiles to RDKit molecules"
   ]
  },
  {
   "cell_type": "code",
   "execution_count": 4,
   "metadata": {},
   "outputs": [
    {
     "data": {
      "text/html": [
       "<div>\n",
       "<style scoped>\n",
       "    .dataframe tbody tr th:only-of-type {\n",
       "        vertical-align: middle;\n",
       "    }\n",
       "\n",
       "    .dataframe tbody tr th {\n",
       "        vertical-align: top;\n",
       "    }\n",
       "\n",
       "    .dataframe thead th {\n",
       "        text-align: right;\n",
       "    }\n",
       "</style>\n",
       "<table border=\"1\" class=\"dataframe\">\n",
       "  <thead>\n",
       "    <tr style=\"text-align: right;\">\n",
       "      <th></th>\n",
       "      <th>molecule_chembl_id</th>\n",
       "      <th>canonical_smiles</th>\n",
       "      <th>pIC50</th>\n",
       "      <th>Molecule</th>\n",
       "      <th>Scaffolds</th>\n",
       "      <th>Molecule_SCF</th>\n",
       "    </tr>\n",
       "  </thead>\n",
       "  <tbody>\n",
       "    <tr>\n",
       "      <th>0</th>\n",
       "      <td>CHEMBL68920</td>\n",
       "      <td>Cc1cc(C)c(/C=C2\\C(=O)Nc3ncnc(Nc4ccc(F)c(Cl)c4)...</td>\n",
       "      <td>10.101938</td>\n",
       "      <td>&lt;rdkit.Chem.rdchem.Mol object at 0x148920740&gt;</td>\n",
       "      <td>O=C1Nc2ncnc(Nc3ccccc3)c2/C1=C/c1ccc[nH]1</td>\n",
       "      <td>&lt;rdkit.Chem.rdchem.Mol object at 0x148922030&gt;</td>\n",
       "    </tr>\n",
       "    <tr>\n",
       "      <th>1</th>\n",
       "      <td>CHEMBL68920</td>\n",
       "      <td>Cc1cc(C)c(/C=C2\\C(=O)Nc3ncnc(Nc4ccc(F)c(Cl)c4)...</td>\n",
       "      <td>8.111728</td>\n",
       "      <td>&lt;rdkit.Chem.rdchem.Mol object at 0x148920510&gt;</td>\n",
       "      <td>O=C1Nc2ncnc(Nc3ccccc3)c2/C1=C/c1ccc[nH]1</td>\n",
       "      <td>&lt;rdkit.Chem.rdchem.Mol object at 0x148c45f50&gt;</td>\n",
       "    </tr>\n",
       "    <tr>\n",
       "      <th>2</th>\n",
       "      <td>CHEMBL68920</td>\n",
       "      <td>Cc1cc(C)c(/C=C2\\C(=O)Nc3ncnc(Nc4ccc(F)c(Cl)c4)...</td>\n",
       "      <td>4.851071</td>\n",
       "      <td>&lt;rdkit.Chem.rdchem.Mol object at 0x1489204a0&gt;</td>\n",
       "      <td>O=C1Nc2ncnc(Nc3ccccc3)c2/C1=C/c1ccc[nH]1</td>\n",
       "      <td>&lt;rdkit.Chem.rdchem.Mol object at 0x148c45fc0&gt;</td>\n",
       "    </tr>\n",
       "    <tr>\n",
       "      <th>3</th>\n",
       "      <td>CHEMBL69960</td>\n",
       "      <td>Cc1cc(C(=O)N2CCOCC2)[nH]c1/C=C1\\C(=O)Nc2ncnc(N...</td>\n",
       "      <td>8.679712</td>\n",
       "      <td>&lt;rdkit.Chem.rdchem.Mol object at 0x148920430&gt;</td>\n",
       "      <td>O=C1Nc2ncnc(Nc3ccccc3)c2/C1=C/c1ccc(C(=O)N2CCO...</td>\n",
       "      <td>&lt;rdkit.Chem.rdchem.Mol object at 0x148c46030&gt;</td>\n",
       "    </tr>\n",
       "    <tr>\n",
       "      <th>4</th>\n",
       "      <td>CHEMBL69960</td>\n",
       "      <td>Cc1cc(C(=O)N2CCOCC2)[nH]c1/C=C1\\C(=O)Nc2ncnc(N...</td>\n",
       "      <td>10.126631</td>\n",
       "      <td>&lt;rdkit.Chem.rdchem.Mol object at 0x148920350&gt;</td>\n",
       "      <td>O=C1Nc2ncnc(Nc3ccccc3)c2/C1=C/c1ccc(C(=O)N2CCO...</td>\n",
       "      <td>&lt;rdkit.Chem.rdchem.Mol object at 0x148c460a0&gt;</td>\n",
       "    </tr>\n",
       "  </tbody>\n",
       "</table>\n",
       "</div>"
      ],
      "text/plain": [
       "  molecule_chembl_id                                   canonical_smiles  \\\n",
       "0        CHEMBL68920  Cc1cc(C)c(/C=C2\\C(=O)Nc3ncnc(Nc4ccc(F)c(Cl)c4)...   \n",
       "1        CHEMBL68920  Cc1cc(C)c(/C=C2\\C(=O)Nc3ncnc(Nc4ccc(F)c(Cl)c4)...   \n",
       "2        CHEMBL68920  Cc1cc(C)c(/C=C2\\C(=O)Nc3ncnc(Nc4ccc(F)c(Cl)c4)...   \n",
       "3        CHEMBL69960  Cc1cc(C(=O)N2CCOCC2)[nH]c1/C=C1\\C(=O)Nc2ncnc(N...   \n",
       "4        CHEMBL69960  Cc1cc(C(=O)N2CCOCC2)[nH]c1/C=C1\\C(=O)Nc2ncnc(N...   \n",
       "\n",
       "       pIC50                                       Molecule  \\\n",
       "0  10.101938  <rdkit.Chem.rdchem.Mol object at 0x148920740>   \n",
       "1   8.111728  <rdkit.Chem.rdchem.Mol object at 0x148920510>   \n",
       "2   4.851071  <rdkit.Chem.rdchem.Mol object at 0x1489204a0>   \n",
       "3   8.679712  <rdkit.Chem.rdchem.Mol object at 0x148920430>   \n",
       "4  10.126631  <rdkit.Chem.rdchem.Mol object at 0x148920350>   \n",
       "\n",
       "                                           Scaffolds  \\\n",
       "0           O=C1Nc2ncnc(Nc3ccccc3)c2/C1=C/c1ccc[nH]1   \n",
       "1           O=C1Nc2ncnc(Nc3ccccc3)c2/C1=C/c1ccc[nH]1   \n",
       "2           O=C1Nc2ncnc(Nc3ccccc3)c2/C1=C/c1ccc[nH]1   \n",
       "3  O=C1Nc2ncnc(Nc3ccccc3)c2/C1=C/c1ccc(C(=O)N2CCO...   \n",
       "4  O=C1Nc2ncnc(Nc3ccccc3)c2/C1=C/c1ccc(C(=O)N2CCO...   \n",
       "\n",
       "                                    Molecule_SCF  \n",
       "0  <rdkit.Chem.rdchem.Mol object at 0x148922030>  \n",
       "1  <rdkit.Chem.rdchem.Mol object at 0x148c45f50>  \n",
       "2  <rdkit.Chem.rdchem.Mol object at 0x148c45fc0>  \n",
       "3  <rdkit.Chem.rdchem.Mol object at 0x148c46030>  \n",
       "4  <rdkit.Chem.rdchem.Mol object at 0x148c460a0>  "
      ]
     },
     "execution_count": 4,
     "metadata": {},
     "output_type": "execute_result"
    }
   ],
   "source": [
    "data['Molecule'] = data['canonical_smiles'].apply(Chem.MolFromSmiles)\n",
    "# Generate molecular scaffolds\n",
    "data['Scaffolds'] = data['Molecule'].apply(lambda mol: Chem.MolToSmiles(MurckoScaffold.GetScaffoldForMol(mol)))\n",
    "data['Molecule_SCF'] = data['Scaffolds'].apply(Chem.MolFromSmiles)\n",
    "data.head()"
   ]
  },
  {
   "cell_type": "markdown",
   "metadata": {},
   "source": [
    " ### Tanimoto similarity function"
   ]
  },
  {
   "cell_type": "code",
   "execution_count": 5,
   "metadata": {},
   "outputs": [],
   "source": [
    "def Tanimoto_similarity(train_fps, test_fps):\n",
    "    similarities = []\n",
    "    # Calculate the Tanimoto similarity for each pair of molecules\n",
    "    for train_fp in train_fps:\n",
    "        for test_fp in test_fps:\n",
    "            similarity = FingerprintSimilarity(train_fp, test_fp)\n",
    "            similarities.append(similarity)\n",
    "\n",
    "    # Calculate the average similarity\n",
    "    average_similarity = sum(similarities) / len(similarities)\n",
    "\n",
    "    return average_similarity"
   ]
  },
  {
   "cell_type": "markdown",
   "metadata": {},
   "source": [
    "### Perform Murcko scaffold based split"
   ]
  },
  {
   "cell_type": "code",
   "execution_count": 69,
   "metadata": {},
   "outputs": [
    {
     "name": "stdout",
     "output_type": "stream",
     "text": [
      "Shape of dataframe :  (1900, 9)\n",
      "<class 'pandas.core.frame.DataFrame'>\n",
      "Int64Index: 1900 entries, 582 to 2324\n",
      "Data columns (total 9 columns):\n",
      " #   Column              Non-Null Count  Dtype  \n",
      "---  ------              --------------  -----  \n",
      " 0   molecule_chembl_id  1900 non-null   object \n",
      " 1   canonical_smiles    1900 non-null   object \n",
      " 2   pIC50               1900 non-null   float64\n",
      " 3   Molecule            1900 non-null   object \n",
      " 4   Scaffolds           1900 non-null   object \n",
      " 5   Molecule_SCF        1900 non-null   object \n",
      " 6   ClusterLabel        1900 non-null   int64  \n",
      " 7   SCF_FPS             1900 non-null   object \n",
      " 8   Cluster             1900 non-null   int64  \n",
      "dtypes: float64(1), int64(2), object(6)\n",
      "memory usage: 148.4+ KB\n"
     ]
    }
   ],
   "source": [
    "# Perform clustering based on scaffolds\n",
    "clusters = data.groupby('Scaffolds').groups.values()\n",
    "\n",
    "# Assign cluster labels to molecules\n",
    "cluster_labels = {}\n",
    "clusters = data.groupby('Scaffolds').groups.values()\n",
    "for i, cluster in enumerate(clusters):\n",
    "    for idx in cluster:\n",
    "        cluster_labels[idx] = i\n",
    "data['ClusterLabel'] = data.index.map(cluster_labels)\n",
    "class_counts_data = dict(Counter(data['ClusterLabel']))\n",
    "filtered_classes = [label for label, count in class_counts_data.items() if count >= 2]\n",
    "filtered_data = data[data['ClusterLabel'].isin(filtered_classes)]\n",
    "filtered_sorted_data = filtered_data.sort_values('ClusterLabel')\n",
    "train_set_SCF = filtered_sorted_data[:1900]\n",
    "test_set_SCF = filtered_sorted_data[1900:]\n",
    "print(\"Shape of dataframe : \", train_set_SCF.shape)\n",
    "train_set_SCF.info()\n",
    "train_fps_SCF = [Chem.RDKFingerprint(mol) for mol in train_set_SCF['Molecule']]\n",
    "test_fps_SCF = [Chem.RDKFingerprint(mol) for mol in test_set_SCF['Molecule']]"
   ]
  },
  {
   "cell_type": "markdown",
   "metadata": {},
   "source": [
    "### Perform random split"
   ]
  },
  {
   "cell_type": "code",
   "execution_count": 70,
   "metadata": {},
   "outputs": [
    {
     "name": "stdout",
     "output_type": "stream",
     "text": [
      "Shape of dataframe :  (1900, 9)\n",
      "<class 'pandas.core.frame.DataFrame'>\n",
      "Int64Index: 1900 entries, 2178 to 881\n",
      "Data columns (total 9 columns):\n",
      " #   Column              Non-Null Count  Dtype  \n",
      "---  ------              --------------  -----  \n",
      " 0   molecule_chembl_id  1900 non-null   object \n",
      " 1   canonical_smiles    1900 non-null   object \n",
      " 2   pIC50               1900 non-null   float64\n",
      " 3   Molecule            1900 non-null   object \n",
      " 4   Scaffolds           1900 non-null   object \n",
      " 5   Molecule_SCF        1900 non-null   object \n",
      " 6   ClusterLabel        1900 non-null   int64  \n",
      " 7   SCF_FPS             1900 non-null   object \n",
      " 8   Cluster             1900 non-null   int64  \n",
      "dtypes: float64(1), int64(2), object(6)\n",
      "memory usage: 148.4+ KB\n"
     ]
    }
   ],
   "source": [
    "train_set_RAND, test_set_RAND = train_test_split(data, test_size=0.2, random_state=42)\n",
    "print(\"Shape of dataframe : \", train_set_RAND.shape)\n",
    "train_set_RAND.info()\n",
    "train_fps_RAND = [Chem.RDKFingerprint(mol) for mol in train_set_RAND['Molecule']]\n",
    "test_fps_RAND = [Chem.RDKFingerprint(mol) for mol in test_set_RAND['Molecule']]"
   ]
  },
  {
   "cell_type": "markdown",
   "metadata": {},
   "source": [
    "### Perfom Scaffold_Cluster based splitting"
   ]
  },
  {
   "cell_type": "code",
   "execution_count": 71,
   "metadata": {},
   "outputs": [
    {
     "name": "stdout",
     "output_type": "stream",
     "text": [
      "  molecule_chembl_id                                   canonical_smiles  \\\n",
      "0        CHEMBL68920  Cc1cc(C)c(/C=C2\\C(=O)Nc3ncnc(Nc4ccc(F)c(Cl)c4)...   \n",
      "1        CHEMBL68920  Cc1cc(C)c(/C=C2\\C(=O)Nc3ncnc(Nc4ccc(F)c(Cl)c4)...   \n",
      "2        CHEMBL68920  Cc1cc(C)c(/C=C2\\C(=O)Nc3ncnc(Nc4ccc(F)c(Cl)c4)...   \n",
      "3        CHEMBL69960  Cc1cc(C(=O)N2CCOCC2)[nH]c1/C=C1\\C(=O)Nc2ncnc(N...   \n",
      "4        CHEMBL69960  Cc1cc(C(=O)N2CCOCC2)[nH]c1/C=C1\\C(=O)Nc2ncnc(N...   \n",
      "\n",
      "       pIC50                                       Molecule  \\\n",
      "0  10.101938  <rdkit.Chem.rdchem.Mol object at 0x148920740>   \n",
      "1   8.111728  <rdkit.Chem.rdchem.Mol object at 0x148920510>   \n",
      "2   4.851071  <rdkit.Chem.rdchem.Mol object at 0x1489204a0>   \n",
      "3   8.679712  <rdkit.Chem.rdchem.Mol object at 0x148920430>   \n",
      "4  10.126631  <rdkit.Chem.rdchem.Mol object at 0x148920350>   \n",
      "\n",
      "                                           Scaffolds  \\\n",
      "0           O=C1Nc2ncnc(Nc3ccccc3)c2/C1=C/c1ccc[nH]1   \n",
      "1           O=C1Nc2ncnc(Nc3ccccc3)c2/C1=C/c1ccc[nH]1   \n",
      "2           O=C1Nc2ncnc(Nc3ccccc3)c2/C1=C/c1ccc[nH]1   \n",
      "3  O=C1Nc2ncnc(Nc3ccccc3)c2/C1=C/c1ccc(C(=O)N2CCO...   \n",
      "4  O=C1Nc2ncnc(Nc3ccccc3)c2/C1=C/c1ccc(C(=O)N2CCO...   \n",
      "\n",
      "                                    Molecule_SCF  ClusterLabel  \\\n",
      "0  <rdkit.Chem.rdchem.Mol object at 0x148922030>           191   \n",
      "1  <rdkit.Chem.rdchem.Mol object at 0x148c45f50>           191   \n",
      "2  <rdkit.Chem.rdchem.Mol object at 0x148c45fc0>           191   \n",
      "3  <rdkit.Chem.rdchem.Mol object at 0x148c46030>           189   \n",
      "4  <rdkit.Chem.rdchem.Mol object at 0x148c460a0>           189   \n",
      "\n",
      "                                             SCF_FPS  Cluster  \n",
      "0  [1, 0, 1, 1, 0, 1, 0, 1, 0, 0, 1, 1, 0, 1, 0, ...        0  \n",
      "1  [1, 0, 1, 1, 0, 1, 0, 1, 0, 0, 1, 1, 0, 1, 0, ...        0  \n",
      "2  [1, 0, 1, 1, 0, 1, 0, 1, 0, 0, 1, 1, 0, 1, 0, ...        0  \n",
      "3  [1, 0, 1, 1, 0, 1, 0, 1, 1, 0, 1, 1, 0, 1, 1, ...        0  \n",
      "4  [1, 0, 1, 1, 0, 1, 0, 1, 1, 0, 1, 1, 0, 1, 1, ...        0  \n",
      "[0, 6, 4, 11, 5, 2, 7, 3, 8, 10, 1, 12, 9, -1]\n"
     ]
    }
   ],
   "source": [
    "# Convert molecules to fingerprints\n",
    "data['SCF_FPS'] = [Chem.RDKFingerprint(mol) for mol in data['Molecule_SCF']]\n",
    "fps = data['SCF_FPS'].tolist()\n",
    "# Perform clustering\n",
    "distance_matrix = []\n",
    "for i in range(1, len(fps)):\n",
    "    similarities = DataStructs.BulkTanimotoSimilarity(fps[i], fps[:i])\n",
    "    distance_matrix.extend([1 - similarity for similarity in similarities])\n",
    "cluster_ids = Butina.ClusterData(distance_matrix, len(fps),0.8, isDistData=True)\n",
    "# Step 1: Assign cluster labels to data points\n",
    "data['Cluster'] = -1  # Initialize cluster labels as -1\n",
    "for i, cluster in enumerate(cluster_ids):\n",
    "    cluster_indices = [index for index in cluster if index < len(data)]\n",
    "    cluster_indices = [index for index in cluster_indices if index in data.index]\n",
    "    data.loc[cluster_indices, 'Cluster'] = i\n",
    "print(data.head())\n",
    "\n",
    "# first method\n",
    "# Step 2: Split the data into training and test sets within each cluster\n",
    "train_data = []\n",
    "test_data = []\n",
    "for cluster_id in data['Cluster'].unique():\n",
    "    cluster_data = data[data['Cluster'] == cluster_id]\n",
    "    if len(cluster_data) < 2:\n",
    "        continue  # Skip clusters with only one data point\n",
    "    \n",
    "    cluster_train, cluster_test = train_test_split(cluster_data, test_size=0.2, random_state=42)\n",
    "    train_data.append(cluster_train)\n",
    "    test_data.append(cluster_test)\n",
    "\n",
    "clu_train_data = pd.concat(train_data)\n",
    "clu_test_data = pd.concat(test_data)\n",
    "train_fps_clu = [Chem.RDKFingerprint(mol) for mol in clu_train_data['Molecule_SCF']]\n",
    "test_fps_clu = [Chem.RDKFingerprint(mol) for mol in clu_test_data['Molecule_SCF']]\n",
    "\n",
    "#Second method\n",
    "class_counts_data = dict(Counter(data['Cluster']))\n",
    "filtered_classes = [label for label, count in class_counts_data.items() if count >= 2]\n",
    "filtered_data = data[data['Cluster'].isin(filtered_classes)]\n",
    "class_counts_data = dict(Counter(filtered_data['Cluster']))\n",
    "\n",
    "cluster_labels=list(class_counts_data.keys())\n",
    "print(cluster_labels)\n",
    "cluster_train, cluster_test = train_test_split(cluster_labels, test_size=0.2, random_state=42)\n",
    "# unfinished"
   ]
  },
  {
   "cell_type": "markdown",
   "metadata": {},
   "source": [
    "### Calculates the Tanimoto similarity between training and test sets"
   ]
  },
  {
   "cell_type": "code",
   "execution_count": 62,
   "metadata": {},
   "outputs": [
    {
     "name": "stdout",
     "output_type": "stream",
     "text": [
      " Avarage similarity between traning and test sets in random split: 0.33064598757224656\n",
      " Avarage similarity between traning and test sets in Scaffold based split: 0.2701174731809327\n",
      " Avarage similarity between traning and test sets in clustring based split: 0.2629750947374409\n"
     ]
    }
   ],
   "source": [
    "random_split = Tanimoto_similarity(train_fps_RAND, test_fps_RAND)\n",
    "scaffold_split = Tanimoto_similarity(train_fps_SCF, test_fps_SCF)\n",
    "clustring_split = Tanimoto_similarity(train_fps_clu , test_fps_clu)\n",
    "print(f' Avarage similarity between traning and test sets in random split: {random_split}')\n",
    "print(f' Avarage similarity between traning and test sets in Scaffold based split: {scaffold_split}')\n",
    "print(f' Avarage similarity between traning and test sets in clustring based split: {clustring_split}')"
   ]
  },
  {
   "cell_type": "markdown",
   "metadata": {},
   "source": [
    "### Plot trainng and test sets\n"
   ]
  },
  {
   "cell_type": "code",
   "execution_count": 63,
   "metadata": {},
   "outputs": [
    {
     "data": {
      "image/png": "[encoded data removed]",
      "text/plain": [
       "<Figure size 640x480 with 1 Axes>"
      ]
     },
     "metadata": {},
     "output_type": "display_data"
    }
   ],
   "source": [
    "class_counts_train = Counter(train_set_RAND['ClusterLabel'])\n",
    "class_counts_test = Counter(test_set_RAND['ClusterLabel'])\n",
    "\n",
    "labels_test = list(class_counts_test.keys())\n",
    "counts_test = list(class_counts_test.values())\n",
    "labels_train = list(class_counts_train.keys())\n",
    "counts_train = list(class_counts_train.values())\n",
    "\n",
    "plt.bar(labels_train, counts_train, color='green', label='Train Data')\n",
    "plt.bar(labels_test, counts_test, color='orange', label='Test Data')\n",
    "\n",
    "plt.xlabel('Cluster Label')\n",
    "plt.ylabel('Count')\n",
    "plt.title('Class overlap between training and test sets in random split')\n",
    "plt.legend()\n",
    "plt.show()"
   ]
  },
  {
   "cell_type": "code",
   "execution_count": 64,
   "metadata": {},
   "outputs": [
    {
     "data": {
      "image/png": "[encoded data removed]",
      "text/plain": [
       "<Figure size 640x480 with 1 Axes>"
      ]
     },
     "metadata": {},
     "output_type": "display_data"
    }
   ],
   "source": [
    "class_counts_train = Counter(train_set_SCF['ClusterLabel'])\n",
    "class_counts_test = Counter(test_set_SCF['ClusterLabel'])\n",
    "\n",
    "labels_test = list(class_counts_test.keys())\n",
    "counts_test = list(class_counts_test.values())\n",
    "labels_train = list(class_counts_train.keys())\n",
    "counts_train = list(class_counts_train.values())\n",
    "\n",
    "plt.bar(labels_train, counts_train, color='green', label='Train Data')\n",
    "plt.bar(labels_test, counts_test, color='orange', label='Test Data')\n",
    "\n",
    "plt.xlabel('Cluster Label')\n",
    "plt.ylabel('Count')\n",
    "plt.title('Class overlap between training and test set in scaffold based split')\n",
    "plt.legend()\n",
    "plt.show()"
   ]
  },
  {
   "cell_type": "code",
   "execution_count": 65,
   "metadata": {},
   "outputs": [
    {
     "data": {
      "image/png": "[encoded data removed]",
      "text/plain": [
       "<Figure size 640x480 with 1 Axes>"
      ]
     },
     "metadata": {},
     "output_type": "display_data"
    }
   ],
   "source": [
    "class_counts_train = Counter(clu_train_data['Cluster'])\n",
    "class_counts_test = Counter(clu_test_data['Cluster'])\n",
    "\n",
    "labels_test = list(class_counts_test.keys())\n",
    "counts_test = list(class_counts_test.values())\n",
    "labels_train = list(class_counts_train.keys())\n",
    "counts_train = list(class_counts_train.values())\n",
    "\n",
    "plt.bar(labels_train, counts_train, color='green', label='Train Data')\n",
    "plt.bar(labels_test, counts_test, color='orange', label='Test Data')\n",
    "\n",
    "plt.xlabel('Cluster Label')\n",
    "plt.ylabel('Count')\n",
    "plt.title('Class overlap between training and test set in cluster based split')\n",
    "plt.legend()\n",
    "plt.show()"
   ]
  },
  {
   "cell_type": "markdown",
   "metadata": {},
   "source": [
    "### Datasail package"
   ]
  },
  {
   "cell_type": "code",
   "execution_count": 66,
   "metadata": {},
   "outputs": [
    {
     "ename": "ValueError",
     "evalue": "ECFP with Tanimoto-scores can only be applied to molecular data.",
     "output_type": "error",
     "traceback": [
      "\u001b[0;31m---------------------------------------------------------------------------\u001b[0m",
      "\u001b[0;31mValueError\u001b[0m                                Traceback (most recent call last)",
      "Cell \u001b[0;32mIn[66], line 2\u001b[0m\n\u001b[1;32m      1\u001b[0m mydata \u001b[38;5;241m=\u001b[39m DataSet(datasail\u001b[38;5;241m.\u001b[39mreader\u001b[38;5;241m.\u001b[39mutils\u001b[38;5;241m.\u001b[39mread_csv(\u001b[38;5;124m'\u001b[39m\u001b[38;5;124mmy_input.tsv\u001b[39m\u001b[38;5;124m'\u001b[39m))\n\u001b[0;32m----> 2\u001b[0m \u001b[43mrun_ecfp\u001b[49m\u001b[43m(\u001b[49m\u001b[43mmydata\u001b[49m\u001b[43m)\u001b[49m\n",
      "File \u001b[0;32m~/anaconda3/lib/python3.10/site-packages/datasail/cluster/ecfp.py:27\u001b[0m, in \u001b[0;36mrun_ecfp\u001b[0;34m(dataset)\u001b[0m\n\u001b[1;32m     14\u001b[0m \u001b[38;5;124;03m\"\"\"\u001b[39;00m\n\u001b[1;32m     15\u001b[0m \u001b[38;5;124;03mCompute 1024Bit-ECPFs for every molecule in the dataset and then compute pairwise Tanimoto-Scores of them.\u001b[39;00m\n\u001b[1;32m     16\u001b[0m \n\u001b[0;32m   (...)\u001b[0m\n\u001b[1;32m     24\u001b[0m \u001b[38;5;124;03m      - the similarity matrix of the clusters (a symmetric matrix filled with 1s)\u001b[39;00m\n\u001b[1;32m     25\u001b[0m \u001b[38;5;124;03m\"\"\"\u001b[39;00m\n\u001b[1;32m     26\u001b[0m \u001b[38;5;28;01mif\u001b[39;00m dataset\u001b[38;5;241m.\u001b[39mtype \u001b[38;5;241m!=\u001b[39m \u001b[38;5;124m\"\u001b[39m\u001b[38;5;124mM\u001b[39m\u001b[38;5;124m\"\u001b[39m:\n\u001b[0;32m---> 27\u001b[0m     \u001b[38;5;28;01mraise\u001b[39;00m \u001b[38;5;167;01mValueError\u001b[39;00m(\u001b[38;5;124m\"\u001b[39m\u001b[38;5;124mECFP with Tanimoto-scores can only be applied to molecular data.\u001b[39m\u001b[38;5;124m\"\u001b[39m)\n\u001b[1;32m     29\u001b[0m scaffolds \u001b[38;5;241m=\u001b[39m {}\n\u001b[1;32m     30\u001b[0m LOGGER\u001b[38;5;241m.\u001b[39minfo(\u001b[38;5;124m\"\u001b[39m\u001b[38;5;124mStart ECFP clustering\u001b[39m\u001b[38;5;124m\"\u001b[39m)\n",
      "\u001b[0;31mValueError\u001b[0m: ECFP with Tanimoto-scores can only be applied to molecular data."
     ]
    }
   ],
   "source": [
    "mydata = DataSet(datasail.reader.utils.read_csv('my_input.tsv'))\n",
    "run_ecfp(mydata)\n",
    "# having problem in implementing this package, I have tried different ways but I have gotten same error: ValueError(\"ECFP with Tanimoto-scores can only be applied to molecular data.\")"
   ]
  },
  {
   "cell_type": "markdown",
   "metadata": {},
   "source": [
    "<div class=\"alert alert-block alert-info\">\n",
    "\n",
    "<b>Functions</b>: \n",
    "\n",
    "<ul>\n",
    "<li>Please add <a href=\"https://numpydoc.readthedocs.io/en/latest/format.html\">numpy docstrings</a> to your functions.</li>\n",
    "<li>Please expose all variables used within a function in the function's signature (i.e. they must be function parameters), unless they are created within the scope of the function.</li>\n",
    "<li>Please add comments to the steps performed in the function.</li>\n",
    "<li>Please use meaningful function and parameter names. This applies also to variable names.</li>\n",
    "</ul>\n",
    "    \n",
    "</div>"
   ]
  },
  {
   "cell_type": "code",
   "execution_count": 58,
   "metadata": {},
   "outputs": [],
   "source": [
    "def calculate_ro5_properties(smiles):\n",
    "    \"\"\"\n",
    "    Test if input molecule (SMILES) fulfills Lipinski's rule of five.\n",
    "\n",
    "    Parameters\n",
    "    ----------\n",
    "    smiles : str\n",
    "        SMILES for a molecule.\n",
    "\n",
    "    Returns\n",
    "    -------\n",
    "    pandas.Series\n",
    "        Molecular weight, number of hydrogen bond acceptors/donor and logP value\n",
    "        and Lipinski's rule of five compliance for input molecule.\n",
    "    \"\"\"\n",
    "    # RDKit molecule from SMILES\n",
    "    molecule = Chem.MolFromSmiles(smiles)\n",
    "    # Calculate Ro5-relevant chemical properties\n",
    "    molecular_weight = Descriptors.ExactMolWt(molecule)\n",
    "    n_hba = Descriptors.NumHAcceptors(molecule)\n",
    "    n_hbd = Descriptors.NumHDonors(molecule)\n",
    "    logp = Descriptors.MolLogP(molecule)\n",
    "    # Ro5 conditions fulfilled?\n",
    "    conditions = [molecular_weight <= 500, n_hba <= 10, n_hbd <= 5, logp <= 5]\n",
    "    ro5_fulfilled = sum(conditions) >= 3\n",
    "    # Return True if no more than one out of four conditions is violated\n",
    "    return pd.Series(\n",
    "        [molecular_weight, n_hba, n_hbd, logp, ro5_fulfilled],\n",
    "        index=[\"molecular_weight\", \"n_hba\", \"n_hbd\", \"logp\", \"ro5_fulfilled\"],\n",
    "    )"
   ]
  },
  {
   "cell_type": "markdown",
   "metadata": {},
   "source": [
    "### Load and draw molecules"
   ]
  },
  {
   "cell_type": "markdown",
   "metadata": {},
   "source": [
    "_Explain what you will do and why here in the Markdown cell. This includes everything that has to do with the talktorial's storytelling._"
   ]
  },
  {
   "cell_type": "code",
   "execution_count": 5,
   "metadata": {},
   "outputs": [],
   "source": [
    "# Add comments in the code cell if you want to comment on coding decisions"
   ]
  },
  {
   "cell_type": "code",
   "execution_count": null,
   "metadata": {},
   "outputs": [],
   "source": []
  },
  {
   "cell_type": "markdown",
   "metadata": {},
   "source": [
    "## Discussion\n",
    "\n",
    "Wrap up the talktorial's content here and discuss pros/cons and open questions/challenges."
   ]
  },
  {
   "cell_type": "markdown",
   "metadata": {},
   "source": [
    "## Quiz\n",
    "\n",
    "Ask three questions that the user should be able to answer after doing this talktorial. Choose important take-aways from this talktorial for your questions.\n",
    "\n",
    "1. Question\n",
    "2. Question\n",
    "3. Question"
   ]
  },
  {
   "cell_type": "markdown",
   "metadata": {},
   "source": [
    "<div class=\"alert alert-block alert-info\">\n",
    "\n",
    "<b>Useful checks at the end</b>: \n",
    "    \n",
    "<ul>\n",
    "<li>Clear output and rerun your complete notebook. Does it finish without errors?</li>\n",
    "<li>Check if your talktorial's runtime is as excepted. If not, try to find out which step(s) take unexpectedly long.</li>\n",
    "<li>Flag code cells with <code># TODO: CI</code> that have deterministic output and should be tested within our Continuous Integration (CI) framework.</li>\n",
    "</ul>\n",
    "\n",
    "</div>"
   ]
  },
  {
   "cell_type": "code",
   "execution_count": null,
   "metadata": {},
   "outputs": [],
   "source": []
  }
 ],
 "metadata": {
  "kernelspec": {
   "display_name": "Python 3 (ipykernel)",
   "language": "python",
   "name": "python3"
  },
  "language_info": {
   "codemirror_mode": {
    "name": "ipython",
    "version": 3
   },
   "file_extension": ".py",
   "mimetype": "text/x-python",
   "name": "python",
   "nbconvert_exporter": "python",
   "pygments_lexer": "ipython3",
   "version": "3.10.8"
  }
 },
 "nbformat": 4,
 "nbformat_minor": 4
}
